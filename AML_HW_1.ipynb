{
  "nbformat": 4,
  "nbformat_minor": 0,
  "metadata": {
    "colab": {
      "name": "AML HW-1",
      "provenance": [],
      "collapsed_sections": [],
      "machine_shape": "hm",
      "authorship_tag": "ABX9TyOEkzm3NKq+feRHr6eF5lpu",
      "include_colab_link": true
    },
    "kernelspec": {
      "name": "python3",
      "display_name": "Python 3"
    },
    "accelerator": "GPU"
  },
  "cells": [
    {
      "cell_type": "markdown",
      "metadata": {
        "id": "view-in-github",
        "colab_type": "text"
      },
      "source": [
        "<a href=\"https://colab.research.google.com/github/sergey-jr/F19-20_ML/blob/master/AML_HW_1.ipynb\" target=\"_parent\"><img src=\"https://colab.research.google.com/assets/colab-badge.svg\" alt=\"Open In Colab\"/></a>"
      ]
    },
    {
      "cell_type": "markdown",
      "metadata": {
        "id": "Jd7AThHYmMny",
        "colab_type": "text"
      },
      "source": [
        "# Prerequirements"
      ]
    },
    {
      "cell_type": "code",
      "metadata": {
        "id": "IaEL6ZckDl-s",
        "colab_type": "code",
        "colab": {
          "base_uri": "https://localhost:8080/",
          "height": 34
        },
        "outputId": "4ee443c0-4a25-4ae9-d8ee-6e90c9d8ab2e"
      },
      "source": [
        "%tensorflow_version 2.x"
      ],
      "execution_count": null,
      "outputs": [
        {
          "output_type": "stream",
          "text": [
            "TensorFlow 2.x selected.\n"
          ],
          "name": "stdout"
        }
      ]
    },
    {
      "cell_type": "code",
      "metadata": {
        "id": "aOTts-34LTSG",
        "colab_type": "code",
        "colab": {
          "base_uri": "https://localhost:8080/",
          "height": 1000
        },
        "outputId": "cfec77d1-570a-4c37-eb8e-23d113f41a12"
      },
      "source": [
        "!wget https://raw.githubusercontent.com/spierre91/medium_code/master/russian_troll_tweets_classification_BERT/training_data.csv\n",
        "\n",
        "! pip3 install ktrain comet_ml pytorch-pretrained-bert pytorch-nlp"
      ],
      "execution_count": null,
      "outputs": [
        {
          "output_type": "stream",
          "text": [
            "--2020-02-23 10:46:23--  https://raw.githubusercontent.com/spierre91/medium_code/master/russian_troll_tweets_classification_BERT/training_data.csv\n",
            "Resolving raw.githubusercontent.com (raw.githubusercontent.com)... 151.101.0.133, 151.101.64.133, 151.101.128.133, ...\n",
            "Connecting to raw.githubusercontent.com (raw.githubusercontent.com)|151.101.0.133|:443... connected.\n",
            "HTTP request sent, awaiting response... 200 OK\n",
            "Length: 24786476 (24M) [text/plain]\n",
            "Saving to: ‘training_data.csv.1’\n",
            "\n",
            "\rtraining_data.csv.1   0%[                    ]       0  --.-KB/s               \rtraining_data.csv.1  91%[=================>  ]  21.54M   105MB/s               \rtraining_data.csv.1 100%[===================>]  23.64M   113MB/s    in 0.2s    \n",
            "\n",
            "2020-02-23 10:46:24 (113 MB/s) - ‘training_data.csv.1’ saved [24786476/24786476]\n",
            "\n",
            "Requirement already satisfied: ktrain in /usr/local/lib/python3.6/dist-packages (0.9.4)\n",
            "Requirement already satisfied: comet_ml in /usr/local/lib/python3.6/dist-packages (3.1.0)\n",
            "Requirement already satisfied: pytorch-pretrained-bert in /usr/local/lib/python3.6/dist-packages (0.6.2)\n",
            "Requirement already satisfied: pytorch-nlp in /usr/local/lib/python3.6/dist-packages (0.5.0)\n",
            "Requirement already satisfied: keras-bert in /usr/local/lib/python3.6/dist-packages (from ktrain) (0.81.0)\n",
            "Requirement already satisfied: packaging in /usr/local/lib/python3.6/dist-packages (from ktrain) (20.1)\n",
            "Requirement already satisfied: pandas>=1.0.1 in /usr/local/lib/python3.6/dist-packages (from ktrain) (1.0.1)\n",
            "Requirement already satisfied: jieba in /usr/local/lib/python3.6/dist-packages (from ktrain) (0.42.1)\n",
            "Requirement already satisfied: bokeh in /usr/local/lib/python3.6/dist-packages (from ktrain) (1.4.0)\n",
            "Requirement already satisfied: tensorflow-datasets in /usr/local/lib/python3.6/dist-packages (from ktrain) (2.0.0)\n",
            "Requirement already satisfied: matplotlib>=3.0.0 in /usr/local/lib/python3.6/dist-packages (from ktrain) (3.1.3)\n",
            "Requirement already satisfied: scikit-learn==0.21.3 in /usr/local/lib/python3.6/dist-packages (from ktrain) (0.21.3)\n",
            "Requirement already satisfied: fastprogress>=0.1.21 in /usr/local/lib/python3.6/dist-packages (from ktrain) (0.2.2)\n",
            "Requirement already satisfied: requests in /tensorflow-2.1.0/python3.6 (from ktrain) (2.22.0)\n",
            "Requirement already satisfied: cchardet in /usr/local/lib/python3.6/dist-packages (from ktrain) (2.1.5)\n",
            "Requirement already satisfied: langdetect in /usr/local/lib/python3.6/dist-packages (from ktrain) (1.0.7)\n",
            "Requirement already satisfied: ipython in /usr/local/lib/python3.6/dist-packages (from ktrain) (5.5.0)\n",
            "Requirement already satisfied: networkx==2.3 in /usr/local/lib/python3.6/dist-packages (from ktrain) (2.3)\n",
            "Requirement already satisfied: joblib in /usr/local/lib/python3.6/dist-packages (from ktrain) (0.14.1)\n",
            "Requirement already satisfied: seqeval in /usr/local/lib/python3.6/dist-packages (from ktrain) (0.0.12)\n",
            "Requirement already satisfied: transformers in /usr/local/lib/python3.6/dist-packages (from ktrain) (2.5.0)\n",
            "Requirement already satisfied: six in /tensorflow-2.1.0/python3.6 (from comet_ml) (1.14.0)\n",
            "Requirement already satisfied: nvidia-ml-py3>=7.352.0 in /usr/local/lib/python3.6/dist-packages (from comet_ml) (7.352.0)\n",
            "Requirement already satisfied: comet-git-pure>=0.19.11 in /usr/local/lib/python3.6/dist-packages (from comet_ml) (0.19.15)\n",
            "Requirement already satisfied: netifaces>=0.10.7 in /usr/local/lib/python3.6/dist-packages (from comet_ml) (0.10.9)\n",
            "Requirement already satisfied: websocket-client>=0.55.0 in /usr/local/lib/python3.6/dist-packages (from comet_ml) (0.57.0)\n",
            "Requirement already satisfied: everett[ini]>=1.0.1; python_version >= \"3.0\" in /usr/local/lib/python3.6/dist-packages (from comet_ml) (1.0.2)\n",
            "Requirement already satisfied: wurlitzer>=1.0.2 in /usr/local/lib/python3.6/dist-packages (from comet_ml) (2.0.0)\n",
            "Requirement already satisfied: jsonschema<3.1.0,>=2.6.0 in /usr/local/lib/python3.6/dist-packages (from comet_ml) (2.6.0)\n",
            "Requirement already satisfied: regex in /usr/local/lib/python3.6/dist-packages (from pytorch-pretrained-bert) (2019.12.20)\n",
            "Requirement already satisfied: numpy in /tensorflow-2.1.0/python3.6 (from pytorch-pretrained-bert) (1.18.1)\n",
            "Requirement already satisfied: boto3 in /usr/local/lib/python3.6/dist-packages (from pytorch-pretrained-bert) (1.11.15)\n",
            "Requirement already satisfied: tqdm in /usr/local/lib/python3.6/dist-packages (from pytorch-pretrained-bert) (4.28.1)\n",
            "Requirement already satisfied: torch>=0.4.1 in /usr/local/lib/python3.6/dist-packages (from pytorch-pretrained-bert) (1.4.0)\n",
            "Requirement already satisfied: keras-transformer>=0.30.0 in /usr/local/lib/python3.6/dist-packages (from keras-bert->ktrain) (0.32.0)\n",
            "Requirement already satisfied: Keras in /usr/local/lib/python3.6/dist-packages (from keras-bert->ktrain) (2.2.5)\n",
            "Requirement already satisfied: pyparsing>=2.0.2 in /usr/local/lib/python3.6/dist-packages (from packaging->ktrain) (2.4.6)\n",
            "Requirement already satisfied: pytz>=2017.2 in /usr/local/lib/python3.6/dist-packages (from pandas>=1.0.1->ktrain) (2018.9)\n",
            "Requirement already satisfied: python-dateutil>=2.6.1 in /usr/local/lib/python3.6/dist-packages (from pandas>=1.0.1->ktrain) (2.6.1)\n",
            "Requirement already satisfied: PyYAML>=3.10 in /usr/local/lib/python3.6/dist-packages (from bokeh->ktrain) (3.13)\n",
            "Requirement already satisfied: tornado>=4.3 in /usr/local/lib/python3.6/dist-packages (from bokeh->ktrain) (4.5.3)\n",
            "Requirement already satisfied: pillow>=4.0 in /usr/local/lib/python3.6/dist-packages (from bokeh->ktrain) (6.2.2)\n",
            "Requirement already satisfied: Jinja2>=2.7 in /usr/local/lib/python3.6/dist-packages (from bokeh->ktrain) (2.11.1)\n",
            "Requirement already satisfied: future in /usr/local/lib/python3.6/dist-packages (from tensorflow-datasets->ktrain) (0.16.0)\n",
            "Requirement already satisfied: absl-py in /tensorflow-2.1.0/python3.6 (from tensorflow-datasets->ktrain) (0.9.0)\n",
            "Requirement already satisfied: dill in /usr/local/lib/python3.6/dist-packages (from tensorflow-datasets->ktrain) (0.3.1.1)\n",
            "Requirement already satisfied: attrs>=18.1.0 in /usr/local/lib/python3.6/dist-packages (from tensorflow-datasets->ktrain) (19.3.0)\n",
            "Requirement already satisfied: tensorflow-metadata in /usr/local/lib/python3.6/dist-packages (from tensorflow-datasets->ktrain) (0.21.1)\n",
            "Requirement already satisfied: wrapt in /tensorflow-2.1.0/python3.6 (from tensorflow-datasets->ktrain) (1.12.0)\n",
            "Requirement already satisfied: promise in /usr/local/lib/python3.6/dist-packages (from tensorflow-datasets->ktrain) (2.3)\n",
            "Requirement already satisfied: termcolor in /tensorflow-2.1.0/python3.6 (from tensorflow-datasets->ktrain) (1.1.0)\n",
            "Requirement already satisfied: protobuf>=3.6.1 in /tensorflow-2.1.0/python3.6 (from tensorflow-datasets->ktrain) (3.11.3)\n",
            "Requirement already satisfied: kiwisolver>=1.0.1 in /usr/local/lib/python3.6/dist-packages (from matplotlib>=3.0.0->ktrain) (1.1.0)\n",
            "Requirement already satisfied: cycler>=0.10 in /usr/local/lib/python3.6/dist-packages (from matplotlib>=3.0.0->ktrain) (0.10.0)\n",
            "Requirement already satisfied: scipy>=0.17.0 in /tensorflow-2.1.0/python3.6 (from scikit-learn==0.21.3->ktrain) (1.4.1)\n",
            "Requirement already satisfied: idna<2.9,>=2.5 in /tensorflow-2.1.0/python3.6 (from requests->ktrain) (2.8)\n",
            "Requirement already satisfied: urllib3!=1.25.0,!=1.25.1,<1.26,>=1.21.1 in /tensorflow-2.1.0/python3.6 (from requests->ktrain) (1.25.8)\n",
            "Requirement already satisfied: certifi>=2017.4.17 in /tensorflow-2.1.0/python3.6 (from requests->ktrain) (2019.11.28)\n",
            "Requirement already satisfied: chardet<3.1.0,>=3.0.2 in /tensorflow-2.1.0/python3.6 (from requests->ktrain) (3.0.4)\n",
            "Requirement already satisfied: simplegeneric>0.8 in /usr/local/lib/python3.6/dist-packages (from ipython->ktrain) (0.8.1)\n",
            "Requirement already satisfied: pygments in /usr/local/lib/python3.6/dist-packages (from ipython->ktrain) (2.1.3)\n",
            "Requirement already satisfied: traitlets>=4.2 in /usr/local/lib/python3.6/dist-packages (from ipython->ktrain) (4.3.3)\n",
            "Requirement already satisfied: setuptools>=18.5 in /tensorflow-2.1.0/python3.6 (from ipython->ktrain) (45.2.0)\n",
            "Requirement already satisfied: decorator in /usr/local/lib/python3.6/dist-packages (from ipython->ktrain) (4.4.1)\n",
            "Requirement already satisfied: pickleshare in /usr/local/lib/python3.6/dist-packages (from ipython->ktrain) (0.7.5)\n",
            "Requirement already satisfied: prompt-toolkit<2.0.0,>=1.0.4 in /usr/local/lib/python3.6/dist-packages (from ipython->ktrain) (1.0.18)\n",
            "Requirement already satisfied: pexpect; sys_platform != \"win32\" in /usr/local/lib/python3.6/dist-packages (from ipython->ktrain) (4.8.0)\n",
            "Requirement already satisfied: sentencepiece in /usr/local/lib/python3.6/dist-packages (from transformers->ktrain) (0.1.85)\n",
            "Requirement already satisfied: filelock in /usr/local/lib/python3.6/dist-packages (from transformers->ktrain) (3.0.12)\n",
            "Requirement already satisfied: sacremoses in /usr/local/lib/python3.6/dist-packages (from transformers->ktrain) (0.0.38)\n",
            "Requirement already satisfied: tokenizers==0.5.0 in /usr/local/lib/python3.6/dist-packages (from transformers->ktrain) (0.5.0)\n",
            "Requirement already satisfied: configobj; extra == \"ini\" in /usr/local/lib/python3.6/dist-packages (from everett[ini]>=1.0.1; python_version >= \"3.0\"->comet_ml) (5.0.6)\n",
            "Requirement already satisfied: s3transfer<0.4.0,>=0.3.0 in /usr/local/lib/python3.6/dist-packages (from boto3->pytorch-pretrained-bert) (0.3.3)\n",
            "Requirement already satisfied: botocore<1.15.0,>=1.14.15 in /usr/local/lib/python3.6/dist-packages (from boto3->pytorch-pretrained-bert) (1.14.15)\n",
            "Requirement already satisfied: jmespath<1.0.0,>=0.7.1 in /usr/local/lib/python3.6/dist-packages (from boto3->pytorch-pretrained-bert) (0.9.4)\n",
            "Requirement already satisfied: keras-layer-normalization>=0.12.0 in /usr/local/lib/python3.6/dist-packages (from keras-transformer>=0.30.0->keras-bert->ktrain) (0.14.0)\n",
            "Requirement already satisfied: keras-pos-embd>=0.10.0 in /usr/local/lib/python3.6/dist-packages (from keras-transformer>=0.30.0->keras-bert->ktrain) (0.11.0)\n",
            "Requirement already satisfied: keras-position-wise-feed-forward>=0.5.0 in /usr/local/lib/python3.6/dist-packages (from keras-transformer>=0.30.0->keras-bert->ktrain) (0.6.0)\n",
            "Requirement already satisfied: keras-multi-head>=0.22.0 in /usr/local/lib/python3.6/dist-packages (from keras-transformer>=0.30.0->keras-bert->ktrain) (0.22.0)\n",
            "Requirement already satisfied: keras-embed-sim>=0.7.0 in /usr/local/lib/python3.6/dist-packages (from keras-transformer>=0.30.0->keras-bert->ktrain) (0.7.0)\n",
            "Requirement already satisfied: keras-applications>=1.0.8 in /tensorflow-2.1.0/python3.6 (from Keras->keras-bert->ktrain) (1.0.8)\n",
            "Requirement already satisfied: keras-preprocessing>=1.1.0 in /tensorflow-2.1.0/python3.6 (from Keras->keras-bert->ktrain) (1.1.0)\n",
            "Requirement already satisfied: h5py in /tensorflow-2.1.0/python3.6 (from Keras->keras-bert->ktrain) (2.10.0)\n",
            "Requirement already satisfied: MarkupSafe>=0.23 in /usr/local/lib/python3.6/dist-packages (from Jinja2>=2.7->bokeh->ktrain) (1.1.1)\n",
            "Requirement already satisfied: googleapis-common-protos in /usr/local/lib/python3.6/dist-packages (from tensorflow-metadata->tensorflow-datasets->ktrain) (1.51.0)\n",
            "Requirement already satisfied: ipython-genutils in /usr/local/lib/python3.6/dist-packages (from traitlets>=4.2->ipython->ktrain) (0.2.0)\n",
            "Requirement already satisfied: wcwidth in /usr/local/lib/python3.6/dist-packages (from prompt-toolkit<2.0.0,>=1.0.4->ipython->ktrain) (0.1.8)\n",
            "Requirement already satisfied: ptyprocess>=0.5 in /usr/local/lib/python3.6/dist-packages (from pexpect; sys_platform != \"win32\"->ipython->ktrain) (0.6.0)\n",
            "Requirement already satisfied: click in /usr/local/lib/python3.6/dist-packages (from sacremoses->transformers->ktrain) (7.0)\n",
            "Requirement already satisfied: docutils<0.16,>=0.10 in /usr/local/lib/python3.6/dist-packages (from botocore<1.15.0,>=1.14.15->boto3->pytorch-pretrained-bert) (0.15.2)\n",
            "Requirement already satisfied: keras-self-attention==0.41.0 in /usr/local/lib/python3.6/dist-packages (from keras-multi-head>=0.22.0->keras-transformer>=0.30.0->keras-bert->ktrain) (0.41.0)\n"
          ],
          "name": "stdout"
        }
      ]
    },
    {
      "cell_type": "markdown",
      "metadata": {
        "id": "KOJqxj_4miPd",
        "colab_type": "text"
      },
      "source": [
        "# Imports"
      ]
    },
    {
      "cell_type": "code",
      "metadata": {
        "id": "2wzvwO0Dg_tC",
        "colab_type": "code",
        "colab": {}
      },
      "source": [
        "from comet_ml import Experiment"
      ],
      "execution_count": null,
      "outputs": []
    },
    {
      "cell_type": "code",
      "metadata": {
        "id": "wJtp_r-yL7gQ",
        "colab_type": "code",
        "colab": {}
      },
      "source": [
        "import pandas as pd\n",
        "import numpy as np\n",
        "from collections import Counter\n",
        "import re\n",
        "import nltk\n",
        "from nltk.corpus import stopwords\n",
        "\n",
        "from tensorflow.keras.preprocessing.text import one_hot\n",
        "from tensorflow.keras.preprocessing.sequence import pad_sequences\n",
        "from tensorflow.keras.models import Sequential\n",
        "from tensorflow.keras.layers import Activation, Dropout, Dense\n",
        "from tensorflow.keras.layers import Flatten, Conv1D, LSTM, GRU\n",
        "from tensorflow.keras.layers import GlobalMaxPooling1D\n",
        "from tensorflow.keras.layers import Embedding\n",
        "from sklearn.model_selection import train_test_split\n",
        "from tensorflow.keras.preprocessing.text import Tokenizer\n",
        "from tensorflow.keras.preprocessing.sequence import pad_sequences\n"
      ],
      "execution_count": null,
      "outputs": []
    },
    {
      "cell_type": "markdown",
      "metadata": {
        "id": "D8gBAOQQmbiW",
        "colab_type": "text"
      },
      "source": [
        "# Data processing"
      ]
    },
    {
      "cell_type": "code",
      "metadata": {
        "id": "fDMdJj__N6ob",
        "colab_type": "code",
        "colab": {
          "base_uri": "https://localhost:8080/",
          "height": 34
        },
        "outputId": "09893a40-8712-4421-e553-4b2f7b6c1cb0"
      },
      "source": [
        "df = pd.read_csv(\"training_data.csv\")\n",
        "df = df[['text', 'type']]\n",
        "df.isnull().values.any()"
      ],
      "execution_count": null,
      "outputs": [
        {
          "output_type": "execute_result",
          "data": {
            "text/plain": [
              "True"
            ]
          },
          "metadata": {
            "tags": []
          },
          "execution_count": 6
        }
      ]
    },
    {
      "cell_type": "code",
      "metadata": {
        "id": "AC2ZScbBOR1W",
        "colab_type": "code",
        "colab": {
          "base_uri": "https://localhost:8080/",
          "height": 34
        },
        "outputId": "5973e6c3-098e-4c3a-a572-4638f4cd26b0"
      },
      "source": [
        "df.shape"
      ],
      "execution_count": null,
      "outputs": [
        {
          "output_type": "execute_result",
          "data": {
            "text/plain": [
              "(207071, 2)"
            ]
          },
          "metadata": {
            "tags": []
          },
          "execution_count": 7
        }
      ]
    },
    {
      "cell_type": "code",
      "metadata": {
        "id": "4L38va71OX-D",
        "colab_type": "code",
        "colab": {
          "base_uri": "https://localhost:8080/",
          "height": 204
        },
        "outputId": "48a50484-46df-4184-885d-d27af7e5d952"
      },
      "source": [
        "df.head()"
      ],
      "execution_count": null,
      "outputs": [
        {
          "output_type": "execute_result",
          "data": {
            "text/html": [
              "<div>\n",
              "<style scoped>\n",
              "    .dataframe tbody tr th:only-of-type {\n",
              "        vertical-align: middle;\n",
              "    }\n",
              "\n",
              "    .dataframe tbody tr th {\n",
              "        vertical-align: top;\n",
              "    }\n",
              "\n",
              "    .dataframe thead th {\n",
              "        text-align: right;\n",
              "    }\n",
              "</style>\n",
              "<table border=\"1\" class=\"dataframe\">\n",
              "  <thead>\n",
              "    <tr style=\"text-align: right;\">\n",
              "      <th></th>\n",
              "      <th>text</th>\n",
              "      <th>type</th>\n",
              "    </tr>\n",
              "  </thead>\n",
              "  <tbody>\n",
              "    <tr>\n",
              "      <th>0</th>\n",
              "      <td>RT @ActivistPost: World’s Largest Electronics ...</td>\n",
              "      <td>bot</td>\n",
              "    </tr>\n",
              "    <tr>\n",
              "      <th>1</th>\n",
              "      <td>MUST WATCH\\n\\n\"If they can't control their own...</td>\n",
              "      <td>bot</td>\n",
              "    </tr>\n",
              "    <tr>\n",
              "      <th>2</th>\n",
              "      <td>Watch Hillary Clinton's Full Speech at the 201...</td>\n",
              "      <td>bot</td>\n",
              "    </tr>\n",
              "    <tr>\n",
              "      <th>3</th>\n",
              "      <td>RT @trueblacknews: Could Rising Insurance Prem...</td>\n",
              "      <td>bot</td>\n",
              "    </tr>\n",
              "    <tr>\n",
              "      <th>4</th>\n",
              "      <td>@AnnoGalactic Happy New Year!</td>\n",
              "      <td>bot</td>\n",
              "    </tr>\n",
              "  </tbody>\n",
              "</table>\n",
              "</div>"
            ],
            "text/plain": [
              "                                                text type\n",
              "0  RT @ActivistPost: World’s Largest Electronics ...  bot\n",
              "1  MUST WATCH\\n\\n\"If they can't control their own...  bot\n",
              "2  Watch Hillary Clinton's Full Speech at the 201...  bot\n",
              "3  RT @trueblacknews: Could Rising Insurance Prem...  bot\n",
              "4                      @AnnoGalactic Happy New Year!  bot"
            ]
          },
          "metadata": {
            "tags": []
          },
          "execution_count": 8
        }
      ]
    },
    {
      "cell_type": "code",
      "metadata": {
        "id": "55gWjZ9CO0YI",
        "colab_type": "code",
        "colab": {
          "base_uri": "https://localhost:8080/",
          "height": 34
        },
        "outputId": "219d58f9-4b79-4a0c-f005-8e12f1174f67"
      },
      "source": [
        "print(Counter(df['type'].values))"
      ],
      "execution_count": null,
      "outputs": [
        {
          "output_type": "stream",
          "text": [
            "Counter({'bot': 203476, 'normal': 3582, nan: 13})\n"
          ],
          "name": "stdout"
        }
      ]
    },
    {
      "cell_type": "code",
      "metadata": {
        "id": "9tYMgpFPPshq",
        "colab_type": "code",
        "colab": {}
      },
      "source": [
        "df.dropna(inplace = True)\n",
        "df_bot = df[df['type'] == 'bot'] \n",
        "df_normal = df[df['type'] == 'normal'] \n",
        "df_bot = df_bot.sample(n=len(df_normal))\n",
        "df = df_normal.append(df_bot)\n",
        "df = df.sample(frac=1, random_state = 24).reset_index(drop=True)\n",
        "df['type'] = df['type'] == 'bot'\n",
        "df['type'] = df['type'].astype('int64')"
      ],
      "execution_count": null,
      "outputs": []
    },
    {
      "cell_type": "code",
      "metadata": {
        "id": "ouheMABIQSqd",
        "colab_type": "code",
        "colab": {
          "base_uri": "https://localhost:8080/",
          "height": 34
        },
        "outputId": "9aff8f53-02a1-4e6d-fb0c-ded0d343941a"
      },
      "source": [
        "Counter(df['type'].values)"
      ],
      "execution_count": null,
      "outputs": [
        {
          "output_type": "execute_result",
          "data": {
            "text/plain": [
              "Counter({0: 3582, 1: 3582})"
            ]
          },
          "metadata": {
            "tags": []
          },
          "execution_count": 11
        }
      ]
    },
    {
      "cell_type": "code",
      "metadata": {
        "id": "GQuZJnsiQTfN",
        "colab_type": "code",
        "colab": {}
      },
      "source": [
        "data = df.head(200)\n",
        "features = data['text']\n",
        "target = data['type']"
      ],
      "execution_count": null,
      "outputs": []
    },
    {
      "cell_type": "code",
      "metadata": {
        "id": "haalF1rNQhAs",
        "colab_type": "code",
        "colab": {
          "base_uri": "https://localhost:8080/",
          "height": 34
        },
        "outputId": "2eb22804-f59a-456c-cbcd-e437461d5839"
      },
      "source": [
        "Counter(data['type'])"
      ],
      "execution_count": null,
      "outputs": [
        {
          "output_type": "execute_result",
          "data": {
            "text/plain": [
              "Counter({0: 93, 1: 107})"
            ]
          },
          "metadata": {
            "tags": []
          },
          "execution_count": 13
        }
      ]
    },
    {
      "cell_type": "code",
      "metadata": {
        "id": "L9tKWmTGVNz8",
        "colab_type": "code",
        "colab": {}
      },
      "source": [
        "def preprocess_text(sen):\n",
        "    # Removing html tags\n",
        "    sentence = remove_tags(sen)\n",
        "\n",
        "    # Remove punctuations and numbers\n",
        "    sentence = re.sub('[^a-zA-Z]', ' ', sentence)\n",
        "\n",
        "    # Single character removal\n",
        "    sentence = re.sub(r\"\\s+[a-zA-Z]\\s+\", ' ', sentence)\n",
        "\n",
        "    # Removing multiple spaces\n",
        "    sentence = re.sub(r'\\s+', ' ', sentence)\n",
        "\n",
        "    return sentence"
      ],
      "execution_count": null,
      "outputs": []
    },
    {
      "cell_type": "code",
      "metadata": {
        "id": "_Z7EC_P2V5CV",
        "colab_type": "code",
        "colab": {}
      },
      "source": [
        "TAG_RE = re.compile(r'<[^>]+>')\n",
        "\n",
        "def remove_tags(text):\n",
        "    return TAG_RE.sub('', text)"
      ],
      "execution_count": null,
      "outputs": []
    },
    {
      "cell_type": "markdown",
      "metadata": {
        "id": "4DMfFZZm4psB",
        "colab_type": "text"
      },
      "source": [
        "# Prepare data for models"
      ]
    },
    {
      "cell_type": "code",
      "metadata": {
        "id": "Sj8ZD3gGV-IJ",
        "colab_type": "code",
        "colab": {}
      },
      "source": [
        "features = [preprocess_text(sen) for sen in features]\n",
        "X_train, X_test, y_train, y_test = train_test_split(features, target, test_size=0.5, random_state=42)"
      ],
      "execution_count": null,
      "outputs": []
    },
    {
      "cell_type": "code",
      "metadata": {
        "id": "COpaz_cWX9bz",
        "colab_type": "code",
        "colab": {}
      },
      "source": [
        "tokenizer = Tokenizer(num_words=5000)\n",
        "tokenizer.fit_on_texts(X_train)\n",
        "\n",
        "X_train = tokenizer.texts_to_sequences(X_train)\n",
        "X_test = tokenizer.texts_to_sequences(X_test)"
      ],
      "execution_count": null,
      "outputs": []
    },
    {
      "cell_type": "code",
      "metadata": {
        "id": "JTAPYKe0YHnm",
        "colab_type": "code",
        "colab": {}
      },
      "source": [
        "# Adding 1 because of reserved 0 index\n",
        "vocab_size = len(tokenizer.word_index) + 1\n",
        "\n",
        "maxlen = 100\n",
        "\n",
        "X_train = pad_sequences(X_train, padding='post', maxlen=maxlen)\n",
        "X_test = pad_sequences(X_test, padding='post', maxlen=maxlen)"
      ],
      "execution_count": null,
      "outputs": []
    },
    {
      "cell_type": "markdown",
      "metadata": {
        "id": "fjfeSVmoIZYb",
        "colab_type": "text"
      },
      "source": [
        "# glove.6B"
      ]
    },
    {
      "cell_type": "code",
      "metadata": {
        "id": "xhDBbqYuYK0i",
        "colab_type": "code",
        "colab": {
          "base_uri": "https://localhost:8080/",
          "height": 357
        },
        "outputId": "f1e5a3e2-9605-4d81-a1b2-ad3ed46dabca"
      },
      "source": [
        "! wget http://nlp.stanford.edu/data/glove.6B.zip"
      ],
      "execution_count": null,
      "outputs": [
        {
          "output_type": "stream",
          "text": [
            "--2020-02-23 10:46:36--  http://nlp.stanford.edu/data/glove.6B.zip\n",
            "Resolving nlp.stanford.edu (nlp.stanford.edu)... 171.64.67.140\n",
            "Connecting to nlp.stanford.edu (nlp.stanford.edu)|171.64.67.140|:80... connected.\n",
            "HTTP request sent, awaiting response... 302 Found\n",
            "Location: https://nlp.stanford.edu/data/glove.6B.zip [following]\n",
            "--2020-02-23 10:46:37--  https://nlp.stanford.edu/data/glove.6B.zip\n",
            "Connecting to nlp.stanford.edu (nlp.stanford.edu)|171.64.67.140|:443... connected.\n",
            "HTTP request sent, awaiting response... 301 Moved Permanently\n",
            "Location: http://downloads.cs.stanford.edu/nlp/data/glove.6B.zip [following]\n",
            "--2020-02-23 10:46:37--  http://downloads.cs.stanford.edu/nlp/data/glove.6B.zip\n",
            "Resolving downloads.cs.stanford.edu (downloads.cs.stanford.edu)... 171.64.64.22\n",
            "Connecting to downloads.cs.stanford.edu (downloads.cs.stanford.edu)|171.64.64.22|:80... connected.\n",
            "HTTP request sent, awaiting response... 200 OK\n",
            "Length: 862182613 (822M) [application/zip]\n",
            "Saving to: ‘glove.6B.zip’\n",
            "\n",
            "glove.6B.zip        100%[===================>] 822.24M  2.20MB/s    in 6m 29s  \n",
            "\n",
            "2020-02-23 10:53:06 (2.11 MB/s) - ‘glove.6B.zip’ saved [862182613/862182613]\n",
            "\n"
          ],
          "name": "stdout"
        }
      ]
    },
    {
      "cell_type": "code",
      "metadata": {
        "id": "SC5-HDjjYNXk",
        "colab_type": "code",
        "colab": {
          "base_uri": "https://localhost:8080/",
          "height": 102
        },
        "outputId": "71ae7f00-0d13-4a18-fe5b-87dd5c622fb6"
      },
      "source": [
        "! unzip glove.6B.zip"
      ],
      "execution_count": null,
      "outputs": [
        {
          "output_type": "stream",
          "text": [
            "Archive:  glove.6B.zip\n",
            "  inflating: glove.6B.50d.txt        \n",
            "  inflating: glove.6B.100d.txt       \n",
            "  inflating: glove.6B.200d.txt       \n",
            "  inflating: glove.6B.300d.txt       \n"
          ],
          "name": "stdout"
        }
      ]
    },
    {
      "cell_type": "code",
      "metadata": {
        "id": "rgfbVR1kYQXE",
        "colab_type": "code",
        "colab": {}
      },
      "source": [
        "embeddings_dictionary = dict()\n",
        "glove_file = open('glove.6B.100d.txt', encoding=\"utf8\")\n",
        "\n",
        "for line in glove_file:\n",
        "    records = line.split()\n",
        "    word = records[0]\n",
        "    vector_dimensions = np.asarray(records[1:], dtype='float32')\n",
        "    embeddings_dictionary [word] = vector_dimensions\n",
        "glove_file.close()"
      ],
      "execution_count": null,
      "outputs": []
    },
    {
      "cell_type": "code",
      "metadata": {
        "id": "p8K76e4cYZz3",
        "colab_type": "code",
        "colab": {}
      },
      "source": [
        "embedding_matrix = np.zeros((vocab_size, 100))\n",
        "for word, index in tokenizer.word_index.items():\n",
        "    embedding_vector = embeddings_dictionary.get(word)\n",
        "    if embedding_vector is not None:\n",
        "        embedding_matrix[index] = embedding_vector"
      ],
      "execution_count": null,
      "outputs": []
    },
    {
      "cell_type": "markdown",
      "metadata": {
        "id": "tjEs_8Qybf_B",
        "colab_type": "text"
      },
      "source": [
        "#  Simple Neural network"
      ]
    },
    {
      "cell_type": "code",
      "metadata": {
        "id": "89CbcFUAYfI-",
        "colab_type": "code",
        "colab": {
          "base_uri": "https://localhost:8080/",
          "height": 1000
        },
        "outputId": "3fc82a36-f460-4b1a-a28d-48d9e2fb48fd"
      },
      "source": [
        "experiment1 = Experiment(api_key=\"lGk6i9quEJm9F3X6OCWpnBnwE\",\n",
        "                        project_name=\"general\", workspace=\"sergey-jr\")\n",
        "model = Sequential()\n",
        "embedding_layer = Embedding(vocab_size, 100, weights=[embedding_matrix], input_length=maxlen , trainable=False)\n",
        "model.add(embedding_layer)\n",
        "\n",
        "model.add(Flatten())\n",
        "model.add(Dense(64, activation='sigmoid'))\n",
        "model.add(Dense(32, activation='sigmoid'))\n",
        "model.add(Dense(8, activation='sigmoid'))\n",
        "model.add(Dense(1, activation='sigmoid'))\n",
        "\n",
        "model.compile(optimizer='adam', loss='binary_crossentropy', metrics=['acc'])\n",
        "\n",
        "# print(model.summary())\n",
        "\n",
        "history = model.fit(X_train, y_train, batch_size=128, epochs=10, verbose=1, validation_split=0.2)\n",
        "\n",
        "score = model.evaluate(X_test, y_test, verbose=1)\n",
        "experiment1.end()\n",
        "# print(\"Test Score:\", score[0])\n",
        "# print(\"Test Accuracy:\", score[1])"
      ],
      "execution_count": null,
      "outputs": [
        {
          "output_type": "stream",
          "text": [
            "COMET INFO: Experiment is live on comet.ml https://www.comet.ml/sergey-jr/general/97deb4dcc75a4649bbd8cf905f317d65\n",
            "\n",
            "COMET INFO: Ignoring automatic log_parameter('verbose') because 'keras:verbose' is in COMET_LOGGING_PARAMETERS_IGNORE\n",
            "COMET INFO: Ignoring automatic log_parameter('do_validation') because 'keras:do_validation' is in COMET_LOGGING_PARAMETERS_IGNORE\n"
          ],
          "name": "stderr"
        },
        {
          "output_type": "stream",
          "text": [
            "Train on 80 samples, validate on 20 samples\n",
            "Epoch 1/10\n"
          ],
          "name": "stdout"
        },
        {
          "output_type": "stream",
          "text": [
            "COMET INFO: Ignoring automatic log_metric('batch_batch') because 'keras:batch_batch' is in COMET_LOGGING_METRICS_IGNORE\n",
            "COMET INFO: Ignoring automatic log_metric('batch_size') because 'keras:batch_size' is in COMET_LOGGING_METRICS_IGNORE\n"
          ],
          "name": "stderr"
        },
        {
          "output_type": "stream",
          "text": [
            "80/80 [==============================] - 2s 26ms/sample - loss: 0.7791 - acc: 0.4250 - val_loss: 0.7797 - val_acc: 0.4000\n",
            "Epoch 2/10\n",
            "80/80 [==============================] - 0s 157us/sample - loss: 0.7606 - acc: 0.4250 - val_loss: 0.7656 - val_acc: 0.4000\n",
            "Epoch 3/10\n",
            "80/80 [==============================] - 0s 161us/sample - loss: 0.7437 - acc: 0.4250 - val_loss: 0.7529 - val_acc: 0.4000\n",
            "Epoch 4/10\n",
            "80/80 [==============================] - 0s 148us/sample - loss: 0.7289 - acc: 0.4250 - val_loss: 0.7417 - val_acc: 0.4000\n",
            "Epoch 5/10\n",
            "80/80 [==============================] - 0s 152us/sample - loss: 0.7161 - acc: 0.4250 - val_loss: 0.7318 - val_acc: 0.4000\n",
            "Epoch 6/10\n",
            "80/80 [==============================] - 0s 201us/sample - loss: 0.7051 - acc: 0.4250 - val_loss: 0.7232 - val_acc: 0.4000\n",
            "Epoch 7/10\n",
            "80/80 [==============================] - 0s 146us/sample - loss: 0.6954 - acc: 0.4250 - val_loss: 0.7155 - val_acc: 0.4000\n",
            "Epoch 8/10\n",
            "80/80 [==============================] - 0s 151us/sample - loss: 0.6866 - acc: 0.4250 - val_loss: 0.7086 - val_acc: 0.4000\n",
            "Epoch 9/10\n",
            "80/80 [==============================] - 0s 154us/sample - loss: 0.6786 - acc: 0.4250 - val_loss: 0.7025 - val_acc: 0.4000\n",
            "Epoch 10/10\n",
            "80/80 [==============================] - 0s 144us/sample - loss: 0.6710 - acc: 0.4250 - val_loss: 0.6970 - val_acc: 0.4000\n",
            "100/100 [==============================] - 0s 167us/sample - loss: 0.6897 - acc: 0.5100\n"
          ],
          "name": "stdout"
        },
        {
          "output_type": "stream",
          "text": [
            "COMET INFO: ----------------------------\n",
            "COMET INFO: Comet.ml Experiment Summary:\n",
            "COMET INFO:   Data:\n",
            "COMET INFO:     url: https://www.comet.ml/sergey-jr/general/97deb4dcc75a4649bbd8cf905f317d65\n",
            "COMET INFO:   Metrics [count] (min, max):\n",
            "COMET INFO:     acc [10]                 : (0.42500001192092896, 0.42500001192092896)\n",
            "COMET INFO:     batch_acc [10]           : (0.42500001192092896, 0.42500001192092896)\n",
            "COMET INFO:     batch_loss [10]          : (0.6709685325622559, 0.779143214225769)\n",
            "COMET INFO:     epoch_duration [10]      : (0.011249049000070954, 2.1151079940000272)\n",
            "COMET INFO:     loss [10]                : (0.6709685325622559, 0.779143214225769)\n",
            "COMET INFO:     step                     : 20\n",
            "COMET INFO:     sys.cpu.percent.01       : (2.3, 2.3)\n",
            "COMET INFO:     sys.cpu.percent.02       : (2.0, 2.0)\n",
            "COMET INFO:     sys.cpu.percent.03       : (3.6, 3.6)\n",
            "COMET INFO:     sys.cpu.percent.04       : (3.4, 3.4)\n",
            "COMET INFO:     sys.cpu.percent.avg      : (2.825, 2.825)\n",
            "COMET INFO:     sys.gpu.0.free_memory    : (17071734784.0, 17071734784.0)\n",
            "COMET INFO:     sys.gpu.0.gpu_utilization: (0.0, 0.0)\n",
            "COMET INFO:     sys.gpu.0.total_memory   : (17071734784.0, 17071734784.0)\n",
            "COMET INFO:     sys.gpu.0.used_memory    : (0.0, 0.0)\n",
            "COMET INFO:     sys.ram.total            : (27395407872.0, 27395407872.0)\n",
            "COMET INFO:     sys.ram.used             : (1124044800.0, 1124044800.0)\n",
            "COMET INFO:     val_acc [10]             : (0.4000000059604645, 0.4000000059604645)\n",
            "COMET INFO:     val_loss [10]            : (0.6969991326332092, 0.7797456383705139)\n",
            "COMET INFO:     validate_batch_acc [10]  : (0.4000000059604645, 0.4000000059604645)\n",
            "COMET INFO:     validate_batch_loss [10] : (0.6969991326332092, 0.7797456383705139)\n",
            "COMET INFO:   Other [count]:\n",
            "COMET INFO:     trainable_params: 732017\n",
            "COMET INFO: ----------------------------\n",
            "COMET INFO: Uploading stats to Comet before program termination (may take several seconds)\n"
          ],
          "name": "stderr"
        }
      ]
    },
    {
      "cell_type": "markdown",
      "metadata": {
        "id": "QAhMn-u20W_S",
        "colab_type": "text"
      },
      "source": [
        "Accuracy (orange for train, blue for validation)<br>\n",
        "![accuracy](https://c.radikal.ru/c36/2002/8c/3d16e3109835.jpg)\n",
        "<br>Loss (orange for train, blue for validation)<br>\n",
        "![loss](https://d.radikal.ru/d21/2002/f8/efb6b8bb4980.jpg)"
      ]
    },
    {
      "cell_type": "markdown",
      "metadata": {
        "id": "kiOSjNpdbpF9",
        "colab_type": "text"
      },
      "source": [
        "# Convolutional neural network"
      ]
    },
    {
      "cell_type": "code",
      "metadata": {
        "id": "wwSTMstbagEP",
        "colab_type": "code",
        "colab": {
          "base_uri": "https://localhost:8080/",
          "height": 955
        },
        "outputId": "2b9831b9-ad17-4db2-a57f-d36fc8849436"
      },
      "source": [
        "experiment2 = Experiment(api_key=\"lGk6i9quEJm9F3X6OCWpnBnwE\",\n",
        "                        project_name=\"general\", workspace=\"sergey-jr\")\n",
        "model = Sequential()\n",
        "\n",
        "embedding_layer = Embedding(vocab_size, 100, weights=[embedding_matrix], input_length=maxlen , trainable=False)\n",
        "model.add(embedding_layer)\n",
        "\n",
        "model.add(Conv1D(128, 5, activation='relu'))\n",
        "model.add(GlobalMaxPooling1D())\n",
        "model.add(Dense(1, activation='sigmoid'))\n",
        "model.compile(optimizer='adam', loss='binary_crossentropy', metrics=['acc'])\n",
        "# print(model.summary())\n",
        "history = model.fit(X_train, y_train, batch_size=128, epochs=10, verbose=1, validation_split=0.2)\n",
        "\n",
        "score = model.evaluate(X_test, y_test, verbose=1)\n",
        "experiment2.end()\n",
        "# print(\"Test Score:\", score[0])\n",
        "# print(\"Test Accuracy:\", score[1])"
      ],
      "execution_count": null,
      "outputs": [
        {
          "output_type": "stream",
          "text": [
            "COMET INFO: Experiment is live on comet.ml https://www.comet.ml/sergey-jr/general/b63cc751fb51458d96a0815acd95cbf0\n",
            "\n"
          ],
          "name": "stderr"
        },
        {
          "output_type": "stream",
          "text": [
            "Train on 80 samples, validate on 20 samples\n",
            "Epoch 1/10\n",
            "80/80 [==============================] - 5s 62ms/sample - loss: 0.7518 - acc: 0.5625 - val_loss: 0.6866 - val_acc: 0.4500\n",
            "Epoch 2/10\n",
            "80/80 [==============================] - 0s 214us/sample - loss: 0.6170 - acc: 0.7375 - val_loss: 0.6772 - val_acc: 0.6000\n",
            "Epoch 3/10\n",
            "80/80 [==============================] - 0s 178us/sample - loss: 0.5255 - acc: 0.8500 - val_loss: 0.6431 - val_acc: 0.6500\n",
            "Epoch 4/10\n",
            "80/80 [==============================] - 0s 183us/sample - loss: 0.4316 - acc: 0.9500 - val_loss: 0.6191 - val_acc: 0.7000\n",
            "Epoch 5/10\n",
            "80/80 [==============================] - 0s 162us/sample - loss: 0.3664 - acc: 0.9500 - val_loss: 0.6097 - val_acc: 0.5500\n",
            "Epoch 6/10\n",
            "80/80 [==============================] - 0s 149us/sample - loss: 0.3222 - acc: 0.9500 - val_loss: 0.6028 - val_acc: 0.7000\n",
            "Epoch 7/10\n",
            "80/80 [==============================] - 0s 173us/sample - loss: 0.2820 - acc: 0.9500 - val_loss: 0.5967 - val_acc: 0.6500\n",
            "Epoch 8/10\n",
            "80/80 [==============================] - 0s 177us/sample - loss: 0.2434 - acc: 0.9750 - val_loss: 0.5958 - val_acc: 0.7000\n",
            "Epoch 9/10\n",
            "80/80 [==============================] - 0s 166us/sample - loss: 0.2105 - acc: 0.9750 - val_loss: 0.6012 - val_acc: 0.7000\n",
            "Epoch 10/10\n",
            "80/80 [==============================] - 0s 166us/sample - loss: 0.1852 - acc: 0.9875 - val_loss: 0.6083 - val_acc: 0.6500\n",
            "100/100 [==============================] - 0s 517us/sample - loss: 0.5542 - acc: 0.7100\n"
          ],
          "name": "stdout"
        },
        {
          "output_type": "stream",
          "text": [
            "COMET INFO: ----------------------------\n",
            "COMET INFO: Comet.ml Experiment Summary:\n",
            "COMET INFO:   Data:\n",
            "COMET INFO:     url: https://www.comet.ml/sergey-jr/general/b63cc751fb51458d96a0815acd95cbf0\n",
            "COMET INFO:   Metrics [count] (min, max):\n",
            "COMET INFO:     acc [10]                 : (0.5625, 0.987500011920929)\n",
            "COMET INFO:     batch_acc [10]           : (0.5625, 0.987500011920929)\n",
            "COMET INFO:     batch_loss [10]          : (0.18516184389591217, 0.7518419027328491)\n",
            "COMET INFO:     epoch_duration [10]      : (0.012172796999948332, 4.938168012999995)\n",
            "COMET INFO:     loss [10]                : (0.18516184389591217, 0.7518419027328491)\n",
            "COMET INFO:     step                     : 20\n",
            "COMET INFO:     sys.cpu.percent.01       : (3.8, 3.8)\n",
            "COMET INFO:     sys.cpu.percent.02       : (7.3, 7.3)\n",
            "COMET INFO:     sys.cpu.percent.03       : (1.8, 1.8)\n",
            "COMET INFO:     sys.cpu.percent.04       : (5.6, 5.6)\n",
            "COMET INFO:     sys.cpu.percent.avg      : (4.625, 4.625)\n",
            "COMET INFO:     sys.gpu.0.free_memory    : (16621895680.0, 16621895680.0)\n",
            "COMET INFO:     sys.gpu.0.gpu_utilization: (0.0, 0.0)\n",
            "COMET INFO:     sys.gpu.0.total_memory   : (17071734784.0, 17071734784.0)\n",
            "COMET INFO:     sys.gpu.0.used_memory    : (449839104.0, 449839104.0)\n",
            "COMET INFO:     sys.ram.total            : (27395407872.0, 27395407872.0)\n",
            "COMET INFO:     sys.ram.used             : (1872453632.0, 1872453632.0)\n",
            "COMET INFO:     val_acc [10]             : (0.44999998807907104, 0.699999988079071)\n",
            "COMET INFO:     val_loss [10]            : (0.5958314538002014, 0.6865729093551636)\n",
            "COMET INFO:     validate_batch_acc [10]  : (0.44999998807907104, 0.699999988079071)\n",
            "COMET INFO:     validate_batch_loss [10] : (0.5958314538002014, 0.6865729093551636)\n",
            "COMET INFO:   Other [count]:\n",
            "COMET INFO:     trainable_params: 153857\n",
            "COMET INFO: ----------------------------\n",
            "COMET INFO: Uploading stats to Comet before program termination (may take several seconds)\n"
          ],
          "name": "stderr"
        }
      ]
    },
    {
      "cell_type": "markdown",
      "metadata": {
        "id": "zb6-cbH13QIq",
        "colab_type": "text"
      },
      "source": [
        "Accuracy (orange for train, blue for validation)<br>\n",
        "![accuracy](https://b.radikal.ru/b12/2002/40/13461be45d55.jpg)\n",
        "<br>Loss (orange for train, blue for validation)<br>\n",
        "![loss](https://d.radikal.ru/d00/2002/1e/4de141d482a7.jpg)"
      ]
    },
    {
      "cell_type": "markdown",
      "metadata": {
        "id": "h30GYNp1cE3L",
        "colab_type": "text"
      },
      "source": [
        "# Recurent Neural Network (LSTM)"
      ]
    },
    {
      "cell_type": "code",
      "metadata": {
        "id": "ajNlgSCXb9ky",
        "colab_type": "code",
        "colab": {
          "base_uri": "https://localhost:8080/",
          "height": 955
        },
        "outputId": "c8267c68-1e0b-4ffe-ab5e-4362e4c18328"
      },
      "source": [
        "experiment3 = Experiment(api_key=\"lGk6i9quEJm9F3X6OCWpnBnwE\",\n",
        "                        project_name=\"general\", workspace=\"sergey-jr\")\n",
        "model = Sequential()\n",
        "embedding_layer = Embedding(vocab_size, 100, weights=[embedding_matrix], input_length=maxlen , trainable=False)\n",
        "model.add(embedding_layer)\n",
        "model.add(LSTM(128))\n",
        "\n",
        "model.add(Dense(1, activation='sigmoid'))\n",
        "model.compile(optimizer='adam', loss='binary_crossentropy', metrics=['acc'])\n",
        "# print(model.summary())\n",
        "history = model.fit(X_train, y_train, batch_size=128, epochs=10, verbose=1, validation_split=0.2)\n",
        "\n",
        "score = model.evaluate(X_test, y_test, verbose=1)\n",
        "experiment3.end()\n",
        "# print(\"Test Score:\", score[0])\n",
        "# print(\"Test Accuracy:\", score[1])\n"
      ],
      "execution_count": null,
      "outputs": [
        {
          "output_type": "stream",
          "text": [
            "COMET INFO: Experiment is live on comet.ml https://www.comet.ml/sergey-jr/general/f7d5f0ad0f65421dbd875808c1ea8c40\n",
            "\n"
          ],
          "name": "stderr"
        },
        {
          "output_type": "stream",
          "text": [
            "Train on 80 samples, validate on 20 samples\n",
            "Epoch 1/10\n",
            "80/80 [==============================] - 1s 15ms/sample - loss: 0.6931 - acc: 0.4000 - val_loss: 0.6916 - val_acc: 0.6000\n",
            "Epoch 2/10\n",
            "80/80 [==============================] - 0s 272us/sample - loss: 0.6920 - acc: 0.5750 - val_loss: 0.6898 - val_acc: 0.6000\n",
            "Epoch 3/10\n",
            "80/80 [==============================] - 0s 258us/sample - loss: 0.6907 - acc: 0.5750 - val_loss: 0.6877 - val_acc: 0.6000\n",
            "Epoch 4/10\n",
            "80/80 [==============================] - 0s 267us/sample - loss: 0.6892 - acc: 0.5750 - val_loss: 0.6850 - val_acc: 0.6000\n",
            "Epoch 5/10\n",
            "80/80 [==============================] - 0s 252us/sample - loss: 0.6873 - acc: 0.5750 - val_loss: 0.6815 - val_acc: 0.6000\n",
            "Epoch 6/10\n",
            "80/80 [==============================] - 0s 280us/sample - loss: 0.6851 - acc: 0.5750 - val_loss: 0.6772 - val_acc: 0.6000\n",
            "Epoch 7/10\n",
            "80/80 [==============================] - 0s 292us/sample - loss: 0.6826 - acc: 0.5750 - val_loss: 0.6730 - val_acc: 0.6000\n",
            "Epoch 8/10\n",
            "80/80 [==============================] - 0s 274us/sample - loss: 0.6817 - acc: 0.5750 - val_loss: 0.6725 - val_acc: 0.6000\n",
            "Epoch 9/10\n",
            "80/80 [==============================] - 0s 275us/sample - loss: 0.6832 - acc: 0.5750 - val_loss: 0.6702 - val_acc: 0.6000\n",
            "Epoch 10/10\n",
            "80/80 [==============================] - 0s 334us/sample - loss: 0.6798 - acc: 0.5750 - val_loss: 0.6671 - val_acc: 0.6000\n",
            "100/100 [==============================] - 0s 200us/sample - loss: 0.7141 - acc: 0.4900\n"
          ],
          "name": "stdout"
        },
        {
          "output_type": "stream",
          "text": [
            "COMET INFO: ----------------------------\n",
            "COMET INFO: Comet.ml Experiment Summary:\n",
            "COMET INFO:   Data:\n",
            "COMET INFO:     url: https://www.comet.ml/sergey-jr/general/f7d5f0ad0f65421dbd875808c1ea8c40\n",
            "COMET INFO:   Metrics [count] (min, max):\n",
            "COMET INFO:     acc [10]                 : (0.4000000059604645, 0.574999988079071)\n",
            "COMET INFO:     batch_acc [10]           : (0.4000000059604645, 0.574999988079071)\n",
            "COMET INFO:     batch_loss [10]          : (0.6798197627067566, 0.6931471824645996)\n",
            "COMET INFO:     epoch_duration [10]      : (0.02021630699994148, 1.2244154989999743)\n",
            "COMET INFO:     loss [10]                : (0.6798197627067566, 0.6931471824645996)\n",
            "COMET INFO:     step                     : 20\n",
            "COMET INFO:     sys.cpu.percent.01       : (3.7, 3.7)\n",
            "COMET INFO:     sys.cpu.percent.02       : (4.6, 4.6)\n",
            "COMET INFO:     sys.cpu.percent.03       : (8.9, 8.9)\n",
            "COMET INFO:     sys.cpu.percent.04       : (7.8, 7.8)\n",
            "COMET INFO:     sys.cpu.percent.avg      : (6.250000000000001, 6.250000000000001)\n",
            "COMET INFO:     sys.gpu.0.free_memory    : (12058492928.0, 12058492928.0)\n",
            "COMET INFO:     sys.gpu.0.gpu_utilization: (0.0, 0.0)\n",
            "COMET INFO:     sys.gpu.0.total_memory   : (17071734784.0, 17071734784.0)\n",
            "COMET INFO:     sys.gpu.0.used_memory    : (5013241856.0, 5013241856.0)\n",
            "COMET INFO:     sys.ram.total            : (27395407872.0, 27395407872.0)\n",
            "COMET INFO:     sys.ram.used             : (2667200512.0, 2667200512.0)\n",
            "COMET INFO:     val_acc [10]             : (0.6000000238418579, 0.6000000238418579)\n",
            "COMET INFO:     val_loss [10]            : (0.6671484708786011, 0.6915980577468872)\n",
            "COMET INFO:     validate_batch_acc [10]  : (0.6000000238418579, 0.6000000238418579)\n",
            "COMET INFO:     validate_batch_loss [10] : (0.6671484708786011, 0.6915980577468872)\n",
            "COMET INFO:   Other [count]:\n",
            "COMET INFO:     trainable_params: 206977\n",
            "COMET INFO: ----------------------------\n",
            "COMET INFO: Uploading stats to Comet before program termination (may take several seconds)\n"
          ],
          "name": "stderr"
        }
      ]
    },
    {
      "cell_type": "markdown",
      "metadata": {
        "id": "sXyT_bRK3MRA",
        "colab_type": "text"
      },
      "source": [
        "Accuracy (orange for train, blue for validation)<br>\n",
        "![accuracy](https://a.radikal.ru/a11/2002/0a/0859a9fbe3f9.jpg)\n",
        "<br>Loss (orange for train, blue for validation)<br>\n",
        "![loss](https://a.radikal.ru/a32/2002/57/2b8c773fb789.jpg)"
      ]
    },
    {
      "cell_type": "markdown",
      "metadata": {
        "id": "inmok86LDZjg",
        "colab_type": "text"
      },
      "source": [
        "# GRU"
      ]
    },
    {
      "cell_type": "code",
      "metadata": {
        "id": "AG5zkzUjDcET",
        "colab_type": "code",
        "colab": {
          "base_uri": "https://localhost:8080/",
          "height": 955
        },
        "outputId": "56c9f22c-6b4c-41d7-cf9e-c1712d8eba4a"
      },
      "source": [
        "experiment3 = Experiment(api_key=\"lGk6i9quEJm9F3X6OCWpnBnwE\",\n",
        "                        project_name=\"general\", workspace=\"sergey-jr\")\n",
        "model = Sequential()\n",
        "embedding_layer = Embedding(vocab_size, 100, weights=[embedding_matrix], input_length=maxlen , trainable=False)\n",
        "model.add(embedding_layer)\n",
        "model.add(GRU(128))\n",
        "\n",
        "model.add(Dense(1, activation='sigmoid'))\n",
        "model.compile(optimizer='adam', loss='binary_crossentropy', metrics=['acc'])\n",
        "# print(model.summary())\n",
        "history = model.fit(X_train, y_train, batch_size=128, epochs=10, verbose=1, validation_split=0.2)\n",
        "\n",
        "score = model.evaluate(X_test, y_test, verbose=1)\n",
        "experiment3.end()\n",
        "# print(\"Test Score:\", score[0])\n",
        "# print(\"Test Accuracy:\", score[1])"
      ],
      "execution_count": null,
      "outputs": [
        {
          "output_type": "stream",
          "text": [
            "COMET INFO: Experiment is live on comet.ml https://www.comet.ml/sergey-jr/general/56e3098a3b264498a577a51ccbfcfee1\n",
            "\n"
          ],
          "name": "stderr"
        },
        {
          "output_type": "stream",
          "text": [
            "Train on 80 samples, validate on 20 samples\n",
            "Epoch 1/10\n",
            "80/80 [==============================] - 1s 17ms/sample - loss: 0.6931 - acc: 0.4250 - val_loss: 0.6911 - val_acc: 0.6000\n",
            "Epoch 2/10\n",
            "80/80 [==============================] - 0s 266us/sample - loss: 0.6916 - acc: 0.5750 - val_loss: 0.6890 - val_acc: 0.6000\n",
            "Epoch 3/10\n",
            "80/80 [==============================] - 0s 275us/sample - loss: 0.6901 - acc: 0.5750 - val_loss: 0.6868 - val_acc: 0.6000\n",
            "Epoch 4/10\n",
            "80/80 [==============================] - 0s 263us/sample - loss: 0.6885 - acc: 0.5750 - val_loss: 0.6846 - val_acc: 0.6000\n",
            "Epoch 5/10\n",
            "80/80 [==============================] - 0s 257us/sample - loss: 0.6870 - acc: 0.5750 - val_loss: 0.6822 - val_acc: 0.6000\n",
            "Epoch 6/10\n",
            "80/80 [==============================] - 0s 228us/sample - loss: 0.6855 - acc: 0.5750 - val_loss: 0.6799 - val_acc: 0.6000\n",
            "Epoch 7/10\n",
            "80/80 [==============================] - 0s 221us/sample - loss: 0.6841 - acc: 0.5750 - val_loss: 0.6776 - val_acc: 0.6000\n",
            "Epoch 8/10\n",
            "80/80 [==============================] - 0s 247us/sample - loss: 0.6829 - acc: 0.5750 - val_loss: 0.6755 - val_acc: 0.6000\n",
            "Epoch 9/10\n",
            "80/80 [==============================] - 0s 258us/sample - loss: 0.6821 - acc: 0.5750 - val_loss: 0.6739 - val_acc: 0.6000\n",
            "Epoch 10/10\n",
            "80/80 [==============================] - 0s 296us/sample - loss: 0.6819 - acc: 0.5750 - val_loss: 0.6731 - val_acc: 0.6000\n",
            "100/100 [==============================] - 0s 187us/sample - loss: 0.7146 - acc: 0.4900\n"
          ],
          "name": "stdout"
        },
        {
          "output_type": "stream",
          "text": [
            "COMET INFO: ----------------------------\n",
            "COMET INFO: Comet.ml Experiment Summary:\n",
            "COMET INFO:   Data:\n",
            "COMET INFO:     url: https://www.comet.ml/sergey-jr/general/56e3098a3b264498a577a51ccbfcfee1\n",
            "COMET INFO:   Metrics [count] (min, max):\n",
            "COMET INFO:     acc [10]                 : (0.42500001192092896, 0.574999988079071)\n",
            "COMET INFO:     batch_acc [10]           : (0.42500001192092896, 0.574999988079071)\n",
            "COMET INFO:     batch_loss [10]          : (0.6818901300430298, 0.6931471824645996)\n",
            "COMET INFO:     epoch_duration [10]      : (0.017907837000052496, 1.3819180880000204)\n",
            "COMET INFO:     loss [10]                : (0.6818901300430298, 0.6931471824645996)\n",
            "COMET INFO:     step                     : 20\n",
            "COMET INFO:     sys.cpu.percent.01       : (22.3, 22.3)\n",
            "COMET INFO:     sys.cpu.percent.02       : (3.5, 3.5)\n",
            "COMET INFO:     sys.cpu.percent.03       : (4.6, 4.6)\n",
            "COMET INFO:     sys.cpu.percent.04       : (3.2, 3.2)\n",
            "COMET INFO:     sys.cpu.percent.avg      : (8.4, 8.4)\n",
            "COMET INFO:     sys.gpu.0.free_memory    : (12056395776.0, 12056395776.0)\n",
            "COMET INFO:     sys.gpu.0.gpu_utilization: (0.0, 0.0)\n",
            "COMET INFO:     sys.gpu.0.total_memory   : (17071734784.0, 17071734784.0)\n",
            "COMET INFO:     sys.gpu.0.used_memory    : (5015339008.0, 5015339008.0)\n",
            "COMET INFO:     sys.ram.total            : (27395407872.0, 27395407872.0)\n",
            "COMET INFO:     sys.ram.used             : (2709180416.0, 2709180416.0)\n",
            "COMET INFO:     val_acc [10]             : (0.6000000238418579, 0.6000000238418579)\n",
            "COMET INFO:     val_loss [10]            : (0.6731074452400208, 0.6910797953605652)\n",
            "COMET INFO:     validate_batch_acc [10]  : (0.6000000238418579, 0.6000000238418579)\n",
            "COMET INFO:     validate_batch_loss [10] : (0.6731074452400208, 0.6910797953605652)\n",
            "COMET INFO:   Other [count]:\n",
            "COMET INFO:     trainable_params: 178049\n",
            "COMET INFO: ----------------------------\n",
            "COMET INFO: Uploading stats to Comet before program termination (may take several seconds)\n"
          ],
          "name": "stderr"
        }
      ]
    },
    {
      "cell_type": "markdown",
      "metadata": {
        "id": "Xu8Jdgky3V-X",
        "colab_type": "text"
      },
      "source": [
        "Accuracy (orange for train, blue for validation)<br>\n",
        "![accuracy](https://a.radikal.ru/a11/2002/0a/0859a9fbe3f9.jpg)\n",
        "<br>Loss (orange for train, blue for validation)<br>\n",
        "![loss](https://a.radikal.ru/a32/2002/57/2b8c773fb789.jpg)"
      ]
    },
    {
      "cell_type": "markdown",
      "metadata": {
        "id": "Rsgd8lQqkgUQ",
        "colab_type": "text"
      },
      "source": [
        "# BERT preprocessing"
      ]
    },
    {
      "cell_type": "code",
      "metadata": {
        "id": "-duiftwdhmHz",
        "colab_type": "code",
        "colab": {}
      },
      "source": [
        "from pytorch_pretrained_bert import BertTokenizer, BertModel\n",
        "import torch\n",
        "import torch.nn as nn"
      ],
      "execution_count": null,
      "outputs": []
    },
    {
      "cell_type": "code",
      "metadata": {
        "id": "euuxHW0ujMH7",
        "colab_type": "code",
        "colab": {
          "base_uri": "https://localhost:8080/",
          "height": 68
        },
        "outputId": "99f83d9f-49d5-4cca-9869-75eed02c592b"
      },
      "source": [
        "tokenizer = BertTokenizer.from_pretrained('bert-base-uncased', do_lower_case=True)\n",
        "\n",
        "train_data, test_data = train_test_split(\n",
        "    data, test_size=0.5, random_state=42)\n",
        "\n",
        "print(Counter(train_data['type'].values))\n",
        "print(Counter(test_data['type'].values))\n",
        "\n",
        "train_data = [{'text': text, 'type': type_data } for text in list(train_data['text']) for type_data in list(train_data['type'])]\n",
        "test_data = [{'text': text, 'type': type_data } for text in list(test_data['text']) for type_data in list(test_data['type'])]\n",
        "\n",
        "train_texts, train_labels = list(zip(*map(lambda d: (d['text'], d['type']), train_data)))\n",
        "test_texts, test_labels = list(zip(*map(lambda d: (d['text'], d['type']), test_data)))\n",
        "\n",
        "train_tokens = list(map(lambda t: ['[CLS]'] + tokenizer.tokenize(t)[:511], train_texts))\n",
        "test_tokens = list(map(lambda t: ['[CLS]'] + tokenizer.tokenize(t)[:511], test_texts))\n",
        "train_tokens_ids = list(map(tokenizer.convert_tokens_to_ids, train_tokens))\n",
        "test_tokens_ids = list(map(tokenizer.convert_tokens_to_ids, test_tokens))\n",
        "train_tokens_ids = pad_sequences(train_tokens_ids, maxlen=128, truncating=\"post\", padding=\"post\", dtype=\"int\")\n",
        "test_tokens_ids = pad_sequences(test_tokens_ids, maxlen=128, truncating=\"post\", padding=\"post\", dtype=\"int\")\n",
        "\n",
        "train_y = np.array(train_labels)\n",
        "test_y = np.array(test_labels)"
      ],
      "execution_count": null,
      "outputs": [
        {
          "output_type": "stream",
          "text": [
            "100%|██████████| 231508/231508 [00:00<00:00, 426375.76B/s]\n"
          ],
          "name": "stderr"
        },
        {
          "output_type": "stream",
          "text": [
            "Counter({1: 58, 0: 42})\n",
            "Counter({0: 51, 1: 49})\n"
          ],
          "name": "stdout"
        }
      ]
    },
    {
      "cell_type": "code",
      "metadata": {
        "id": "OcTwAvGgjqT2",
        "colab_type": "code",
        "colab": {}
      },
      "source": [
        "class BertBinaryClassifier(nn.Module):\n",
        "    def __init__(self, dropout=0.1):\n",
        "        super(BertBinaryClassifier, self).__init__()\n",
        "        self.bert = BertModel.from_pretrained('bert-base-uncased')\n",
        "        self.dropout = nn.Dropout(dropout)\n",
        "        self.linear = nn.Linear(768, 1)\n",
        "        self.sigmoid = nn.Sigmoid()\n",
        "    \n",
        "    def forward(self, tokens, masks=None):\n",
        "        _, pooled_output = self.bert(tokens, attention_mask=masks, output_all_encoded_layers=False)\n",
        "        dropout_output = self.dropout(pooled_output)\n",
        "        linear_output = self.linear(dropout_output)\n",
        "        proba = self.sigmoid(linear_output)\n",
        "        return proba"
      ],
      "execution_count": null,
      "outputs": []
    },
    {
      "cell_type": "markdown",
      "metadata": {
        "id": "cgfO7i0tTd8O",
        "colab_type": "text"
      },
      "source": [
        "# ELMO"
      ]
    },
    {
      "cell_type": "code",
      "metadata": {
        "id": "kgetv9vM9-gG",
        "colab_type": "code",
        "colab": {
          "base_uri": "https://localhost:8080/",
          "height": 156
        },
        "outputId": "8f2f26df-4c0c-46a0-9d2d-a9f0c5b403d2"
      },
      "source": [
        "nltk.download('punkt')\n",
        "token_length = []\n",
        "ds = [nltk.word_tokenize(preprocess_text(sen.lower())) for sen in df['text']][:200]\n",
        "token_length = [len(token) for token in ds]\n",
        "\n",
        "for sen in ds[:5]:\n",
        "  print(sen)"
      ],
      "execution_count": null,
      "outputs": [
        {
          "output_type": "stream",
          "text": [
            "[nltk_data] Downloading package punkt to /root/nltk_data...\n",
            "[nltk_data]   Unzipping tokenizers/punkt.zip.\n",
            "['day', 'late', 'and', 'dollar', 'short', 'super', 'thankful', 'for', 'this', 'human', 'dealing', 'with', 'my', 'sassy', 'attitude', 'on', 'daily', 'basis', 'https', 'co', 'yuhxjo', 'wvm']\n",
            "['thankful', 'for', 'my', 'big', 'family', 'they', 'll', 'never', 'let', 'me', 'feel', 'alone']\n",
            "['rt', 'kimmybalgoa', 'pzchrstnnn', 'happy', 'birthday', 'beauty', 'queen', 'ganda', 'mo', 'parin']\n",
            "['rt', 'kathy', 'montufar', 'lmao', 'me', 'every', 'time', 'go', 'into', 'shelter', 'or', 'pet', 'store', 'https', 'co', 'nxrpvvcpos']\n",
            "['year', 'old', 'black', 'child', 'on', 'free', 'lunch', 'program', 'arrested', 'charged', 'standing', 'trial', 'for', 'milk', 'https', 'co', 'nchutzlg']\n"
          ],
          "name": "stdout"
        }
      ]
    },
    {
      "cell_type": "code",
      "metadata": {
        "id": "92kaDyQPANPn",
        "colab_type": "code",
        "colab": {}
      },
      "source": [
        "import tensorflow_hub as hub\n",
        "import tensorflow as tf\n",
        "from sklearn.manifold import TSNE"
      ],
      "execution_count": null,
      "outputs": []
    },
    {
      "cell_type": "code",
      "metadata": {
        "id": "Rc043MVx-m52",
        "colab_type": "code",
        "colab": {
          "base_uri": "https://localhost:8080/",
          "height": 34
        },
        "outputId": "e618519f-c69a-4d45-ca54-5fea16104743"
      },
      "source": [
        "len(ds), len(token_length), sum(token_length)"
      ],
      "execution_count": null,
      "outputs": [
        {
          "output_type": "execute_result",
          "data": {
            "text/plain": [
              "(200, 200, 3460)"
            ]
          },
          "metadata": {
            "tags": []
          },
          "execution_count": 40
        }
      ]
    },
    {
      "cell_type": "code",
      "metadata": {
        "id": "Sl8sMEKsTlds",
        "colab_type": "code",
        "colab": {
          "base_uri": "https://localhost:8080/",
          "height": 139
        },
        "outputId": "aaed29cb-21e1-440a-989d-7cbbc93d36d5"
      },
      "source": [
        "max_length = 100\n",
        "\n",
        "padded_text =  pad_sequences(ds, maxlen=max_length, padding='post', dtype=object, value='PADDED')\n",
        "tokens_ = tf.convert_to_tensor(padded_text)\n",
        "token_length_ = tf.convert_to_tensor(token_length)\n",
        "\n",
        "elmo = hub.KerasLayer(\"https://tfhub.dev/google/elmo/2\", trainable=False, signature='tokens',signature_outputs_as_dict=True)\n",
        "all_elmo_embeddings = elmo(inputs={'tokens':tokens_,'sequence_len':token_length_})\n",
        "elmo_embeddings = all_elmo_embeddings['word_emb']\n",
        "# print(elmo_embeddings)"
      ],
      "execution_count": null,
      "outputs": [
        {
          "output_type": "stream",
          "text": [
            "WARNING:tensorflow:From /tensorflow-2.1.0/python3.6/tensorflow_core/python/ops/resource_variable_ops.py:1786: calling BaseResourceVariable.__init__ (from tensorflow.python.ops.resource_variable_ops) with constraint is deprecated and will be removed in a future version.\n",
            "Instructions for updating:\n",
            "If using Keras pass *_constraint arguments to layers.\n"
          ],
          "name": "stdout"
        },
        {
          "output_type": "stream",
          "text": [
            "WARNING:tensorflow:From /tensorflow-2.1.0/python3.6/tensorflow_core/python/ops/resource_variable_ops.py:1786: calling BaseResourceVariable.__init__ (from tensorflow.python.ops.resource_variable_ops) with constraint is deprecated and will be removed in a future version.\n",
            "Instructions for updating:\n",
            "If using Keras pass *_constraint arguments to layers.\n"
          ],
          "name": "stderr"
        }
      ]
    },
    {
      "cell_type": "code",
      "metadata": {
        "id": "3_u8_G0OLdSy",
        "colab_type": "code",
        "colab": {}
      },
      "source": [
        "import csv\n",
        "np_elmo_embeddings = elmo_embeddings.numpy()\n",
        "with open('elmo_embeddings.tsv', mode='w', encoding='utf-8') as f:\n",
        "  csv_writer = csv.writer(f, delimiter='\\t')\n",
        "  for i, sen in enumerate(np_elmo_embeddings):\n",
        "    for vec in sen[:token_length[i]]:\n",
        "      csv_writer.writerow(vec)\n",
        "with open('elmo_metadata.tsv', mode='w', encoding='utf-8') as f:\n",
        "  for i, sen in enumerate(ds):\n",
        "    for word in sen:\n",
        "      f.write(word + '\\n')"
      ],
      "execution_count": null,
      "outputs": []
    },
    {
      "cell_type": "markdown",
      "metadata": {
        "id": "T9xIoYolFANY",
        "colab_type": "text"
      },
      "source": [
        "![image.png](data:image/png;base64,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)"
      ]
    },
    {
      "cell_type": "markdown",
      "metadata": {
        "id": "EyoCLDA1FsTU",
        "colab_type": "text"
      },
      "source": [
        "![image.png](data:image/png;base64,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)"
      ]
    },
    {
      "cell_type": "markdown",
      "metadata": {
        "id": "7m9EbNFt23L6",
        "colab_type": "text"
      },
      "source": [
        "# Birt Classification"
      ]
    },
    {
      "cell_type": "code",
      "metadata": {
        "id": "y9Zvi-x7jsN2",
        "colab_type": "code",
        "colab": {}
      },
      "source": [
        "train_masks = [[float(i > 0) for i in ii] for ii in train_tokens_ids]\n",
        "test_masks = [[float(i > 0) for i in ii] for ii in test_tokens_ids]\n",
        "train_masks_tensor = torch.tensor(train_masks)\n",
        "test_masks_tensor = torch.tensor(test_masks)"
      ],
      "execution_count": null,
      "outputs": []
    },
    {
      "cell_type": "code",
      "metadata": {
        "id": "UM7WAFqIjyCx",
        "colab_type": "code",
        "colab": {}
      },
      "source": [
        "train_tokens_tensor = torch.tensor(train_tokens_ids)\n",
        "train_y_tensor = torch.tensor(train_y.reshape(-1, 1)).float()\n",
        "test_tokens_tensor = torch.tensor(test_tokens_ids)\n",
        "test_y_tensor = torch.tensor(test_y.reshape(-1, 1)).float()"
      ],
      "execution_count": null,
      "outputs": []
    },
    {
      "cell_type": "code",
      "metadata": {
        "id": "xWyCi3jskBXX",
        "colab_type": "code",
        "colab": {
          "base_uri": "https://localhost:8080/",
          "height": 34
        },
        "outputId": "3c8f4ec8-f5f4-4dc6-e042-61d840e1b996"
      },
      "source": [
        "BATCH_SIZE = 25\n",
        "EPOCHS = 1\n",
        "bert_clf = BertBinaryClassifier()\n",
        "optimizer = torch.optim.Adam(bert_clf.parameters(), lr=3e-6)"
      ],
      "execution_count": null,
      "outputs": [
        {
          "output_type": "stream",
          "text": [
            "100%|██████████| 407873900/407873900 [00:34<00:00, 11688131.30B/s]\n"
          ],
          "name": "stderr"
        }
      ]
    },
    {
      "cell_type": "code",
      "metadata": {
        "id": "sJNLAhZAkObl",
        "colab_type": "code",
        "colab": {}
      },
      "source": [
        "train_dataset =  torch.utils.data.TensorDataset(train_tokens_tensor, train_masks_tensor, train_y_tensor)\n",
        "train_sampler =  torch.utils.data.RandomSampler(train_dataset)\n",
        "train_dataloader =  torch.utils.data.DataLoader(train_dataset, sampler=train_sampler, batch_size=BATCH_SIZE)\n",
        "test_dataset =  torch.utils.data.TensorDataset(test_tokens_tensor, test_masks_tensor, test_y_tensor)\n",
        "test_sampler =  torch.utils.data.SequentialSampler(test_dataset)\n",
        "test_dataloader =  torch.utils.data.DataLoader(test_dataset, sampler=test_sampler, batch_size=BATCH_SIZE)"
      ],
      "execution_count": null,
      "outputs": []
    },
    {
      "cell_type": "code",
      "metadata": {
        "id": "V4k9j-SbkUVr",
        "colab_type": "code",
        "colab": {
          "base_uri": "https://localhost:8080/",
          "height": 1000
        },
        "outputId": "000c6678-dbd7-41a5-de7c-0b7a2b76925a"
      },
      "source": [
        "experiment4 = Experiment(api_key=\"lGk6i9quEJm9F3X6OCWpnBnwE\",\n",
        "                        project_name=\"general\", workspace=\"sergey-jr\")\n",
        "for epoch_num in range(EPOCHS):\n",
        "    bert_clf.train()\n",
        "    train_loss = 0\n",
        "    for step_num, batch_data in enumerate(train_dataloader):\n",
        "        token_ids, masks, labels = tuple(t for t in batch_data)\n",
        "        probas = bert_clf(token_ids, masks)\n",
        "        loss_func = nn.BCELoss()\n",
        "        batch_loss = loss_func(probas, labels)\n",
        "        train_loss += batch_loss.item()\n",
        "        bert_clf.zero_grad()\n",
        "        batch_loss.backward()\n",
        "        optimizer.step()\n",
        "        print('Epoch: ', epoch_num + 1)\n",
        "        print(\"\\r\" + \"{0}/{1} loss: {2} \".format(step_num, len(train_data) / BATCH_SIZE, train_loss / (step_num + 1)))"
      ],
      "execution_count": null,
      "outputs": [
        {
          "output_type": "stream",
          "text": [
            "COMET INFO: Experiment is live on comet.ml https://www.comet.ml/sergey-jr/general/62eb8b3fe0c84436b7d4d64334237ff0\n",
            "\n"
          ],
          "name": "stderr"
        },
        {
          "output_type": "stream",
          "text": [
            "Epoch:  1\n",
            "0/400.0 loss: 0.713276207447052 \n",
            "Epoch:  1\n",
            "1/400.0 loss: 0.7134280502796173 \n",
            "Epoch:  1\n",
            "2/400.0 loss: 0.7123607794443766 \n",
            "Epoch:  1\n",
            "3/400.0 loss: 0.7097123265266418 \n",
            "Epoch:  1\n",
            "4/400.0 loss: 0.7006629943847656 \n",
            "Epoch:  1\n",
            "5/400.0 loss: 0.6969920992851257 \n",
            "Epoch:  1\n",
            "6/400.0 loss: 0.6973567179271153 \n",
            "Epoch:  1\n",
            "7/400.0 loss: 0.6935303881764412 \n",
            "Epoch:  1\n",
            "8/400.0 loss: 0.694702234533098 \n",
            "Epoch:  1\n",
            "9/400.0 loss: 0.6938536107540131 \n",
            "Epoch:  1\n",
            "10/400.0 loss: 0.6885500387711958 \n",
            "Epoch:  1\n",
            "11/400.0 loss: 0.6896787037452062 \n",
            "Epoch:  1\n",
            "12/400.0 loss: 0.6887068381676307 \n",
            "Epoch:  1\n",
            "13/400.0 loss: 0.686895170382091 \n",
            "Epoch:  1\n",
            "14/400.0 loss: 0.6891639590263366 \n",
            "Epoch:  1\n",
            "15/400.0 loss: 0.6902812980115414 \n",
            "Epoch:  1\n",
            "16/400.0 loss: 0.6897030016955208 \n",
            "Epoch:  1\n",
            "17/400.0 loss: 0.6914180517196655 \n",
            "Epoch:  1\n",
            "18/400.0 loss: 0.688462003281242 \n",
            "Epoch:  1\n",
            "19/400.0 loss: 0.6875656008720398 \n",
            "Epoch:  1\n",
            "20/400.0 loss: 0.6842142002923148 \n",
            "Epoch:  1\n",
            "21/400.0 loss: 0.6848138462413441 \n",
            "Epoch:  1\n",
            "22/400.0 loss: 0.6831242804941924 \n",
            "Epoch:  1\n",
            "23/400.0 loss: 0.6822192966938019 \n",
            "Epoch:  1\n",
            "24/400.0 loss: 0.6815036153793335 \n",
            "Epoch:  1\n",
            "25/400.0 loss: 0.6803299509561979 \n",
            "Epoch:  1\n",
            "26/400.0 loss: 0.6784951995920252 \n",
            "Epoch:  1\n",
            "27/400.0 loss: 0.6791276229279382 \n",
            "Epoch:  1\n",
            "28/400.0 loss: 0.6780894706989157 \n",
            "Epoch:  1\n",
            "29/400.0 loss: 0.6784121910730998 \n",
            "Epoch:  1\n",
            "30/400.0 loss: 0.6778689257560238 \n",
            "Epoch:  1\n",
            "31/400.0 loss: 0.6774797569960356 \n",
            "Epoch:  1\n",
            "32/400.0 loss: 0.6771688605799819 \n",
            "Epoch:  1\n",
            "33/400.0 loss: 0.6777896390241736 \n",
            "Epoch:  1\n",
            "34/400.0 loss: 0.6767379300934928 \n",
            "Epoch:  1\n",
            "35/400.0 loss: 0.6800511313809289 \n",
            "Epoch:  1\n",
            "36/400.0 loss: 0.679824896760889 \n",
            "Epoch:  1\n",
            "37/400.0 loss: 0.6801624141241375 \n",
            "Epoch:  1\n",
            "38/400.0 loss: 0.681910420075441 \n",
            "Epoch:  1\n",
            "39/400.0 loss: 0.6836930692195893 \n",
            "Epoch:  1\n",
            "40/400.0 loss: 0.6841272493688072 \n",
            "Epoch:  1\n",
            "41/400.0 loss: 0.683848717382976 \n",
            "Epoch:  1\n",
            "42/400.0 loss: 0.6835827605668888 \n",
            "Epoch:  1\n",
            "43/400.0 loss: 0.68363295360045 \n",
            "Epoch:  1\n",
            "44/400.0 loss: 0.6821038153436448 \n",
            "Epoch:  1\n",
            "45/400.0 loss: 0.6827616302863412 \n",
            "Epoch:  1\n",
            "46/400.0 loss: 0.6829488733981518 \n",
            "Epoch:  1\n",
            "47/400.0 loss: 0.6837854608893394 \n",
            "Epoch:  1\n",
            "48/400.0 loss: 0.6839991406518586 \n",
            "Epoch:  1\n",
            "49/400.0 loss: 0.6835486960411071 \n",
            "Epoch:  1\n",
            "50/400.0 loss: 0.6835820967075872 \n",
            "Epoch:  1\n",
            "51/400.0 loss: 0.6841343457882221 \n",
            "Epoch:  1\n",
            "52/400.0 loss: 0.684161514606116 \n",
            "Epoch:  1\n",
            "53/400.0 loss: 0.6846190911752207 \n",
            "Epoch:  1\n",
            "54/400.0 loss: 0.6846009633757851 \n",
            "Epoch:  1\n",
            "55/400.0 loss: 0.684606519128595 \n",
            "Epoch:  1\n",
            "56/400.0 loss: 0.6847757372939796 \n",
            "Epoch:  1\n",
            "57/400.0 loss: 0.6848989344876388 \n",
            "Epoch:  1\n",
            "58/400.0 loss: 0.6850368491673874 \n",
            "Epoch:  1\n",
            "59/400.0 loss: 0.6849369605382284 \n",
            "Epoch:  1\n",
            "60/400.0 loss: 0.6845250501007331 \n",
            "Epoch:  1\n",
            "61/400.0 loss: 0.6843120696083191 \n",
            "Epoch:  1\n",
            "62/400.0 loss: 0.6848452753490872 \n",
            "Epoch:  1\n",
            "63/400.0 loss: 0.6841767495498061 \n",
            "Epoch:  1\n",
            "64/400.0 loss: 0.683937130524562 \n",
            "Epoch:  1\n",
            "65/400.0 loss: 0.6847148655038892 \n",
            "Epoch:  1\n",
            "66/400.0 loss: 0.6850273956113787 \n",
            "Epoch:  1\n",
            "67/400.0 loss: 0.6844533366315505 \n",
            "Epoch:  1\n",
            "68/400.0 loss: 0.6842212106870569 \n",
            "Epoch:  1\n",
            "69/400.0 loss: 0.6841796083109719 \n",
            "Epoch:  1\n",
            "70/400.0 loss: 0.6841176748275757 \n",
            "Epoch:  1\n",
            "71/400.0 loss: 0.683755624625418 \n",
            "Epoch:  1\n",
            "72/400.0 loss: 0.6834230398478573 \n",
            "Epoch:  1\n",
            "73/400.0 loss: 0.6836062532824438 \n",
            "Epoch:  1\n",
            "74/400.0 loss: 0.6839555772145589 \n",
            "Epoch:  1\n",
            "75/400.0 loss: 0.6837446877830907 \n",
            "Epoch:  1\n",
            "76/400.0 loss: 0.6829723228107799 \n",
            "Epoch:  1\n",
            "77/400.0 loss: 0.6827607796742365 \n",
            "Epoch:  1\n",
            "78/400.0 loss: 0.682948878294305 \n",
            "Epoch:  1\n",
            "79/400.0 loss: 0.6827833138406276 \n",
            "Epoch:  1\n",
            "80/400.0 loss: 0.6829824418197443 \n",
            "Epoch:  1\n",
            "81/400.0 loss: 0.6833018086305479 \n",
            "Epoch:  1\n",
            "82/400.0 loss: 0.6836355816887085 \n",
            "Epoch:  1\n",
            "83/400.0 loss: 0.6836874428249541 \n",
            "Epoch:  1\n",
            "84/400.0 loss: 0.6834869314642513 \n",
            "Epoch:  1\n",
            "85/400.0 loss: 0.6829668602278066 \n",
            "Epoch:  1\n",
            "86/400.0 loss: 0.6829082726062029 \n",
            "Epoch:  1\n",
            "87/400.0 loss: 0.6835216236385432 \n",
            "Epoch:  1\n",
            "88/400.0 loss: 0.6839365182297953 \n",
            "Epoch:  1\n",
            "89/400.0 loss: 0.6842142363389333 \n",
            "Epoch:  1\n",
            "90/400.0 loss: 0.6840324866902697 \n",
            "Epoch:  1\n",
            "91/400.0 loss: 0.683724234285562 \n",
            "Epoch:  1\n",
            "92/400.0 loss: 0.6835682827939269 \n",
            "Epoch:  1\n",
            "93/400.0 loss: 0.6832657113988349 \n",
            "Epoch:  1\n",
            "94/400.0 loss: 0.6829248265216225 \n",
            "Epoch:  1\n",
            "95/400.0 loss: 0.6829316187649965 \n",
            "Epoch:  1\n",
            "96/400.0 loss: 0.6830838058412689 \n",
            "Epoch:  1\n",
            "97/400.0 loss: 0.6836455300146219 \n",
            "Epoch:  1\n",
            "98/400.0 loss: 0.6840121721980548 \n",
            "Epoch:  1\n",
            "99/400.0 loss: 0.6836863493919373 \n",
            "Epoch:  1\n",
            "100/400.0 loss: 0.6840523392847269 \n",
            "Epoch:  1\n",
            "101/400.0 loss: 0.6843097128120124 \n",
            "Epoch:  1\n",
            "102/400.0 loss: 0.6846401008587439 \n",
            "Epoch:  1\n",
            "103/400.0 loss: 0.6851690543385652 \n",
            "Epoch:  1\n",
            "104/400.0 loss: 0.6847047601427351 \n",
            "Epoch:  1\n",
            "105/400.0 loss: 0.6842046447519986 \n",
            "Epoch:  1\n",
            "106/400.0 loss: 0.683706153776044 \n",
            "Epoch:  1\n",
            "107/400.0 loss: 0.6834958488190616 \n",
            "Epoch:  1\n",
            "108/400.0 loss: 0.6836514817465336 \n",
            "Epoch:  1\n",
            "109/400.0 loss: 0.6835101826624437 \n",
            "Epoch:  1\n",
            "110/400.0 loss: 0.6835365982742997 \n",
            "Epoch:  1\n",
            "111/400.0 loss: 0.6836177398051534 \n",
            "Epoch:  1\n",
            "112/400.0 loss: 0.6835328393277869 \n",
            "Epoch:  1\n",
            "113/400.0 loss: 0.6837608286163264 \n",
            "Epoch:  1\n",
            "114/400.0 loss: 0.6835174166637918 \n",
            "Epoch:  1\n",
            "115/400.0 loss: 0.6835444014647911 \n",
            "Epoch:  1\n",
            "116/400.0 loss: 0.6835142898763347 \n",
            "Epoch:  1\n",
            "117/400.0 loss: 0.6836967407646826 \n",
            "Epoch:  1\n",
            "118/400.0 loss: 0.6835059799066111 \n",
            "Epoch:  1\n",
            "119/400.0 loss: 0.6831643109520277 \n",
            "Epoch:  1\n",
            "120/400.0 loss: 0.6830781072624459 \n",
            "Epoch:  1\n",
            "121/400.0 loss: 0.6834468607042656 \n",
            "Epoch:  1\n",
            "122/400.0 loss: 0.6834512100956305 \n",
            "Epoch:  1\n",
            "123/400.0 loss: 0.684111199552013 \n",
            "Epoch:  1\n",
            "124/400.0 loss: 0.6838503074645996 \n",
            "Epoch:  1\n",
            "125/400.0 loss: 0.6835734229239206 \n",
            "Epoch:  1\n",
            "126/400.0 loss: 0.6837090756010822 \n",
            "Epoch:  1\n",
            "127/400.0 loss: 0.6841624486260116 \n",
            "Epoch:  1\n",
            "128/400.0 loss: 0.6840215034263079 \n",
            "Epoch:  1\n",
            "129/400.0 loss: 0.6842852308199956 \n",
            "Epoch:  1\n",
            "130/400.0 loss: 0.6844683221278299 \n",
            "Epoch:  1\n",
            "131/400.0 loss: 0.6845838472698674 \n",
            "Epoch:  1\n",
            "132/400.0 loss: 0.6844708596853385 \n",
            "Epoch:  1\n",
            "133/400.0 loss: 0.684803472081227 \n",
            "Epoch:  1\n",
            "134/400.0 loss: 0.6848588396001745 \n",
            "Epoch:  1\n",
            "135/400.0 loss: 0.684906937620219 \n",
            "Epoch:  1\n",
            "136/400.0 loss: 0.6849587442231004 \n",
            "Epoch:  1\n",
            "137/400.0 loss: 0.685208668311437 \n",
            "Epoch:  1\n",
            "138/400.0 loss: 0.6851852806352026 \n",
            "Epoch:  1\n",
            "139/400.0 loss: 0.6852339995758874 \n",
            "Epoch:  1\n",
            "140/400.0 loss: 0.6855513018073766 \n",
            "Epoch:  1\n",
            "141/400.0 loss: 0.6854775959337261 \n",
            "Epoch:  1\n",
            "142/400.0 loss: 0.6856044305788054 \n",
            "Epoch:  1\n",
            "143/400.0 loss: 0.6856459863483906 \n",
            "Epoch:  1\n",
            "144/400.0 loss: 0.685772953773367 \n",
            "Epoch:  1\n",
            "145/400.0 loss: 0.6860894172975461 \n",
            "Epoch:  1\n",
            "146/400.0 loss: 0.6862420674894942 \n",
            "Epoch:  1\n",
            "147/400.0 loss: 0.6861579442346418 \n",
            "Epoch:  1\n",
            "148/400.0 loss: 0.6860456158650802 \n",
            "Epoch:  1\n",
            "149/400.0 loss: 0.6861086066563924 \n",
            "Epoch:  1\n",
            "150/400.0 loss: 0.686066169612455 \n",
            "Epoch:  1\n",
            "151/400.0 loss: 0.6861294425631824 \n",
            "Epoch:  1\n",
            "152/400.0 loss: 0.6860341266089794 \n",
            "Epoch:  1\n",
            "153/400.0 loss: 0.6859462505037134 \n",
            "Epoch:  1\n",
            "154/400.0 loss: 0.6858915375125023 \n",
            "Epoch:  1\n",
            "155/400.0 loss: 0.685756320754687 \n",
            "Epoch:  1\n",
            "156/400.0 loss: 0.6856867424242056 \n",
            "Epoch:  1\n",
            "157/400.0 loss: 0.6856690181207054 \n",
            "Epoch:  1\n",
            "158/400.0 loss: 0.6857514655065237 \n",
            "Epoch:  1\n",
            "159/400.0 loss: 0.6856163810938597 \n",
            "Epoch:  1\n",
            "160/400.0 loss: 0.6856704976247705 \n",
            "Epoch:  1\n",
            "161/400.0 loss: 0.6856229367815418 \n",
            "Epoch:  1\n",
            "162/400.0 loss: 0.6854273139333432 \n",
            "Epoch:  1\n",
            "163/400.0 loss: 0.6852631997771379 \n",
            "Epoch:  1\n",
            "164/400.0 loss: 0.6853027538819747 \n",
            "Epoch:  1\n",
            "165/400.0 loss: 0.6850244995341244 \n",
            "Epoch:  1\n",
            "166/400.0 loss: 0.6849758799918397 \n",
            "Epoch:  1\n",
            "167/400.0 loss: 0.6850709088501477 \n",
            "Epoch:  1\n",
            "168/400.0 loss: 0.6846282344598037 \n",
            "Epoch:  1\n",
            "169/400.0 loss: 0.684423851966858 \n",
            "Epoch:  1\n",
            "170/400.0 loss: 0.6845077746792844 \n",
            "Epoch:  1\n",
            "171/400.0 loss: 0.6844551937524662 \n",
            "Epoch:  1\n",
            "172/400.0 loss: 0.6841273841830348 \n",
            "Epoch:  1\n",
            "173/400.0 loss: 0.6836354057679231 \n",
            "Epoch:  1\n",
            "174/400.0 loss: 0.6835499245779855 \n",
            "Epoch:  1\n",
            "175/400.0 loss: 0.6838205453347076 \n",
            "Epoch:  1\n",
            "176/400.0 loss: 0.6838466410583022 \n",
            "Epoch:  1\n",
            "177/400.0 loss: 0.6840840079141467 \n",
            "Epoch:  1\n",
            "178/400.0 loss: 0.6844771254662029 \n",
            "Epoch:  1\n",
            "179/400.0 loss: 0.6842949188417858 \n",
            "Epoch:  1\n",
            "180/400.0 loss: 0.6844334365254607 \n",
            "Epoch:  1\n",
            "181/400.0 loss: 0.6846351849508809 \n",
            "Epoch:  1\n",
            "182/400.0 loss: 0.6851623006205741 \n",
            "Epoch:  1\n",
            "183/400.0 loss: 0.6853950655330783 \n",
            "Epoch:  1\n",
            "184/400.0 loss: 0.6852934847006926 \n",
            "Epoch:  1\n",
            "185/400.0 loss: 0.6853807411527121 \n",
            "Epoch:  1\n",
            "186/400.0 loss: 0.6850423133946995 \n",
            "Epoch:  1\n",
            "187/400.0 loss: 0.6849877793104091 \n",
            "Epoch:  1\n",
            "188/400.0 loss: 0.6850624270540066 \n",
            "Epoch:  1\n",
            "189/400.0 loss: 0.684992358872765 \n",
            "Epoch:  1\n",
            "190/400.0 loss: 0.6853754236436015 \n",
            "Epoch:  1\n",
            "191/400.0 loss: 0.6854736202706894 \n",
            "Epoch:  1\n",
            "192/400.0 loss: 0.6854230440342365 \n",
            "Epoch:  1\n",
            "193/400.0 loss: 0.6851444238239957 \n",
            "Epoch:  1\n",
            "194/400.0 loss: 0.6851007941441658 \n",
            "Epoch:  1\n",
            "195/400.0 loss: 0.6849033254749921 \n",
            "Epoch:  1\n",
            "196/400.0 loss: 0.6853284763200634 \n",
            "Epoch:  1\n",
            "197/400.0 loss: 0.6853394722095644 \n",
            "Epoch:  1\n",
            "198/400.0 loss: 0.6849287149295136 \n",
            "Epoch:  1\n",
            "199/400.0 loss: 0.6852384459972382 \n",
            "Epoch:  1\n",
            "200/400.0 loss: 0.6851465639783375 \n",
            "Epoch:  1\n",
            "201/400.0 loss: 0.6854203349292869 \n",
            "Epoch:  1\n",
            "202/400.0 loss: 0.6852064640651195 \n",
            "Epoch:  1\n",
            "203/400.0 loss: 0.6854361722282335 \n",
            "Epoch:  1\n",
            "204/400.0 loss: 0.6855153046003202 \n",
            "Epoch:  1\n",
            "205/400.0 loss: 0.6855449216458404 \n",
            "Epoch:  1\n",
            "206/400.0 loss: 0.6855283077212347 \n",
            "Epoch:  1\n",
            "207/400.0 loss: 0.6852542414115026 \n",
            "Epoch:  1\n",
            "208/400.0 loss: 0.6849025898572931 \n",
            "Epoch:  1\n",
            "209/400.0 loss: 0.684821290345419 \n",
            "Epoch:  1\n",
            "210/400.0 loss: 0.6848163093435821 \n",
            "Epoch:  1\n",
            "211/400.0 loss: 0.6850444682926502 \n",
            "Epoch:  1\n",
            "212/400.0 loss: 0.684729666497226 \n",
            "Epoch:  1\n",
            "213/400.0 loss: 0.6846840036249606 \n",
            "Epoch:  1\n",
            "214/400.0 loss: 0.6845443079637926 \n",
            "Epoch:  1\n",
            "215/400.0 loss: 0.6846289849943585 \n",
            "Epoch:  1\n",
            "216/400.0 loss: 0.6847303353147023 \n",
            "Epoch:  1\n",
            "217/400.0 loss: 0.6845336802508852 \n",
            "Epoch:  1\n",
            "218/400.0 loss: 0.6846400374146902 \n",
            "Epoch:  1\n",
            "219/400.0 loss: 0.6849137425422669 \n",
            "Epoch:  1\n",
            "220/400.0 loss: 0.6850403816991262 \n",
            "Epoch:  1\n",
            "221/400.0 loss: 0.6850422446255211 \n",
            "Epoch:  1\n",
            "222/400.0 loss: 0.6848640166590566 \n",
            "Epoch:  1\n",
            "223/400.0 loss: 0.6846856115651982 \n",
            "Epoch:  1\n",
            "224/400.0 loss: 0.6843984084659153 \n",
            "Epoch:  1\n",
            "225/400.0 loss: 0.6841216651739273 \n",
            "Epoch:  1\n",
            "226/400.0 loss: 0.683975409568669 \n",
            "Epoch:  1\n",
            "227/400.0 loss: 0.6841728313450228 \n",
            "Epoch:  1\n",
            "228/400.0 loss: 0.6840496836270827 \n",
            "Epoch:  1\n",
            "229/400.0 loss: 0.6841166001299154 \n",
            "Epoch:  1\n",
            "230/400.0 loss: 0.6842217401508645 \n",
            "Epoch:  1\n",
            "231/400.0 loss: 0.6845331071265812 \n",
            "Epoch:  1\n",
            "232/400.0 loss: 0.6847823720121589 \n",
            "Epoch:  1\n",
            "233/400.0 loss: 0.6848062995152596 \n",
            "Epoch:  1\n",
            "234/400.0 loss: 0.6846361951625094 \n",
            "Epoch:  1\n",
            "235/400.0 loss: 0.6845623085559425 \n",
            "Epoch:  1\n",
            "236/400.0 loss: 0.6849289787972527 \n",
            "Epoch:  1\n",
            "237/400.0 loss: 0.6847928644729262 \n",
            "Epoch:  1\n",
            "238/400.0 loss: 0.6847928999358142 \n",
            "Epoch:  1\n",
            "239/400.0 loss: 0.6848204001784325 \n",
            "Epoch:  1\n",
            "240/400.0 loss: 0.6848256454428202 \n",
            "Epoch:  1\n",
            "241/400.0 loss: 0.684800101459519 \n",
            "Epoch:  1\n",
            "242/400.0 loss: 0.6848368607921365 \n",
            "Epoch:  1\n",
            "243/400.0 loss: 0.6847452606822624 \n",
            "Epoch:  1\n",
            "244/400.0 loss: 0.6845451992385242 \n",
            "Epoch:  1\n",
            "245/400.0 loss: 0.684419416072892 \n",
            "Epoch:  1\n",
            "246/400.0 loss: 0.6844461150014931 \n",
            "Epoch:  1\n",
            "247/400.0 loss: 0.684342967406396 \n",
            "Epoch:  1\n",
            "248/400.0 loss: 0.6840834292063273 \n",
            "Epoch:  1\n",
            "249/400.0 loss: 0.6840314507484436 \n",
            "Epoch:  1\n",
            "250/400.0 loss: 0.683939985545033 \n",
            "Epoch:  1\n",
            "251/400.0 loss: 0.6838405702322249 \n",
            "Epoch:  1\n",
            "252/400.0 loss: 0.6838758922377123 \n",
            "Epoch:  1\n",
            "253/400.0 loss: 0.6836762655907729 \n",
            "Epoch:  1\n",
            "254/400.0 loss: 0.6836841943217259 \n",
            "Epoch:  1\n",
            "255/400.0 loss: 0.6839457452297211 \n",
            "Epoch:  1\n",
            "256/400.0 loss: 0.6840056723657749 \n",
            "Epoch:  1\n",
            "257/400.0 loss: 0.6841274294280266 \n",
            "Epoch:  1\n",
            "258/400.0 loss: 0.6840549884615718 \n",
            "Epoch:  1\n",
            "259/400.0 loss: 0.6838594138622284 \n",
            "Epoch:  1\n",
            "260/400.0 loss: 0.684125895701149 \n",
            "Epoch:  1\n",
            "261/400.0 loss: 0.684103753048045 \n",
            "Epoch:  1\n",
            "262/400.0 loss: 0.6839698337783379 \n",
            "Epoch:  1\n",
            "263/400.0 loss: 0.6841216283765706 \n",
            "Epoch:  1\n",
            "264/400.0 loss: 0.6841940576175474 \n",
            "Epoch:  1\n",
            "265/400.0 loss: 0.684162971444596 \n",
            "Epoch:  1\n",
            "266/400.0 loss: 0.6839040982142817 \n",
            "Epoch:  1\n",
            "267/400.0 loss: 0.68381853735269 \n",
            "Epoch:  1\n",
            "268/400.0 loss: 0.68401215289162 \n",
            "Epoch:  1\n",
            "269/400.0 loss: 0.684158084348396 \n",
            "Epoch:  1\n",
            "270/400.0 loss: 0.6841393717980473 \n",
            "Epoch:  1\n",
            "271/400.0 loss: 0.6843561692272916 \n",
            "Epoch:  1\n",
            "272/400.0 loss: 0.6843761976385291 \n",
            "Epoch:  1\n",
            "273/400.0 loss: 0.6845234784766705 \n",
            "Epoch:  1\n",
            "274/400.0 loss: 0.6844882011413574 \n",
            "Epoch:  1\n",
            "275/400.0 loss: 0.6845357420219891 \n",
            "Epoch:  1\n",
            "276/400.0 loss: 0.6844843251610491 \n",
            "Epoch:  1\n",
            "277/400.0 loss: 0.6845924146741414 \n",
            "Epoch:  1\n",
            "278/400.0 loss: 0.6846649601895322 \n",
            "Epoch:  1\n",
            "279/400.0 loss: 0.6848675442593438 \n",
            "Epoch:  1\n",
            "280/400.0 loss: 0.6848535862257472 \n",
            "Epoch:  1\n",
            "281/400.0 loss: 0.6849035151461338 \n",
            "Epoch:  1\n",
            "282/400.0 loss: 0.6848045751821026 \n",
            "Epoch:  1\n",
            "283/400.0 loss: 0.6848455768235973 \n",
            "Epoch:  1\n",
            "284/400.0 loss: 0.6849865530666552 \n",
            "Epoch:  1\n",
            "285/400.0 loss: 0.684999154164241 \n",
            "Epoch:  1\n",
            "286/400.0 loss: 0.6851192137505535 \n",
            "Epoch:  1\n",
            "287/400.0 loss: 0.6850406693087684 \n",
            "Epoch:  1\n",
            "288/400.0 loss: 0.6849674083369826 \n",
            "Epoch:  1\n",
            "289/400.0 loss: 0.6850151146280354 \n",
            "Epoch:  1\n",
            "290/400.0 loss: 0.6849525437731923 \n",
            "Epoch:  1\n",
            "291/400.0 loss: 0.6849383132098472 \n",
            "Epoch:  1\n",
            "292/400.0 loss: 0.6850747372510083 \n",
            "Epoch:  1\n",
            "293/400.0 loss: 0.6851115826846791 \n",
            "Epoch:  1\n",
            "294/400.0 loss: 0.6851293832568799 \n",
            "Epoch:  1\n",
            "295/400.0 loss: 0.685121579146063 \n",
            "Epoch:  1\n",
            "296/400.0 loss: 0.6852246370379772 \n",
            "Epoch:  1\n",
            "297/400.0 loss: 0.6852833908676301 \n",
            "Epoch:  1\n",
            "298/400.0 loss: 0.6853372877258123 \n",
            "Epoch:  1\n",
            "299/400.0 loss: 0.6854103328784307 \n",
            "Epoch:  1\n",
            "300/400.0 loss: 0.6854011222373607 \n",
            "Epoch:  1\n",
            "301/400.0 loss: 0.6853854995689644 \n",
            "Epoch:  1\n",
            "302/400.0 loss: 0.6854715951205087 \n",
            "Epoch:  1\n",
            "303/400.0 loss: 0.6855516868986582 \n",
            "Epoch:  1\n",
            "304/400.0 loss: 0.6854825801536685 \n",
            "Epoch:  1\n",
            "305/400.0 loss: 0.6855118124703177 \n",
            "Epoch:  1\n",
            "306/400.0 loss: 0.6855336264600971 \n",
            "Epoch:  1\n",
            "307/400.0 loss: 0.6855116608467969 \n",
            "Epoch:  1\n",
            "308/400.0 loss: 0.6854289156719319 \n",
            "Epoch:  1\n",
            "309/400.0 loss: 0.6854400061791943 \n",
            "Epoch:  1\n",
            "310/400.0 loss: 0.6854289471144844 \n"
          ],
          "name": "stdout"
        }
      ]
    },
    {
      "cell_type": "code",
      "metadata": {
        "id": "H2hZTC7Ukqao",
        "colab_type": "code",
        "colab": {}
      },
      "source": [
        "from sklearn.metrics import classification_report\n",
        "\n",
        "bert_clf.eval()\n",
        "bert_predicted = []\n",
        "all_logits = []\n",
        "with torch.no_grad():\n",
        "    for step_num, batch_data in enumerate(test_dataloader):\n",
        "token_ids, masks, labels = tuple(t for t in batch_data)\n",
        "logits = bert_clf(token_ids, masks)\n",
        "        loss_func = nn.BCELoss()\n",
        "        loss = loss_func(logits, labels)\n",
        "        numpy_logits = logits.cpu().detach().numpy()\n",
        "        \n",
        "        bert_predicted += list(numpy_logits[:, 0] > 0.5)\n",
        "        all_logits += list(numpy_logits[:, 0])\n",
        "experiment4.end()        \n",
        "print(classification_report(test_y, bert_predicted))"
      ],
      "execution_count": null,
      "outputs": []
    }
  ]
}